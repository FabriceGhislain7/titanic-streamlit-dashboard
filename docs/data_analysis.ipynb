{
  "cells": [
    {
      "cell_type": "markdown",
      "id": "0afca7eb-e39c-46a4-b47f-9e6091bb82e7",
      "metadata": {
        "id": "0afca7eb-e39c-46a4-b47f-9e6091bb82e7"
      },
      "source": [
        "# Titanic Dataset Analysis: Factors Influencing Passenger Survival"
      ]
    },
    {
      "cell_type": "markdown",
      "id": "LxaUhpgRTjdw",
      "metadata": {
        "id": "LxaUhpgRTjdw"
      },
      "source": [
        "# 1.Project Overview"
      ]
    },
    {
      "cell_type": "markdown",
      "id": "5edf4f82-0924-4a7d-81c3-a09e0f613071",
      "metadata": {
        "id": "5edf4f82-0924-4a7d-81c3-a09e0f613071"
      },
      "source": [
        "Dataset Description\n",
        "\n",
        "Overview\n",
        "\n",
        "The data has been split into two groups:\n",
        "\n",
        "    training set (train.csv)\n",
        "    test set (test.csv)\n",
        "The training set should be used to build your machine learning models. For the training set, we provide the outcome **(also known as the “ground truth”)** for each passenger. Your model will be based on “features” like passengers’ gender and class. You can also use feature engineering to create new features.\n",
        "\n",
        "The test set should be used to see how well your model performs on unseen data. For the test set, we do not provide the ground truth for each passenger. It is your job to predict these outcomes. For each passenger in the test set, use the model you trained to predict whether or not they survived the sinking of the Titanic.\n",
        "\n",
        "We also include **gender_submission.csv**, a set of predictions that assume all and only female passengers survive, as an example of what a submission file should look like."
      ]
    },
    {
      "cell_type": "markdown",
      "id": "9cea870b-9187-4237-a292-490a9526245f",
      "metadata": {
        "id": "9cea870b-9187-4237-a292-490a9526245f"
      },
      "source": [
        "    Variable     Definition\t                                   Key\n",
        "    survival     Survival\t                                     0 = No, 1 = Yes\n",
        "    pclass\t   Ticket class\t                                 1 = 1st, 2 = 2nd, 3 = 3rd\n",
        "    sex\t      Sex\n",
        "    Age\t      Age in years\n",
        "    sibsp\t    # of siblings / spouses aboard the Titanic\n",
        "    parch\t    # of parents / children aboard the Titanic\n",
        "    ticket\t   Ticket number\n",
        "    fare\t     Passenger fare\n",
        "    cabin\t    Cabin number\n",
        "    embarked     Port of Embarkation\t                          C = Cherbourg, Q = Queenstown, S = Southampton"
      ]
    },
    {
      "cell_type": "markdown",
      "id": "fe8f310e-539f-454c-b3ee-adc8de015990",
      "metadata": {
        "id": "fe8f310e-539f-454c-b3ee-adc8de015990"
      },
      "source": [
        "Variable Notes\n",
        "\n",
        "    pclass: A proxy for socio-economic status (SES)\n",
        "    1st = Upper\n",
        "    2nd = Middle\n",
        "    3rd = Lower\n",
        "\n",
        "    age: Age is fractional if less than 1. If the age is estimated, is it in the form of xx.5\n",
        "\n",
        "    sibsp: The dataset defines family relations in this way...\n",
        "    Sibling = brother, sister, stepbrother, stepsister\n",
        "    Spouse = husband, wife (mistresses and fiancés were ignored)\n",
        "\n",
        "    parch: The dataset defines family relations in this way...\n",
        "    Parent = mother, father\n",
        "    Child = daughter, son, stepdaughter, stepson\n",
        "    Some children travelled only with a nanny, therefore parch=0 for them."
      ]
    },
    {
      "cell_type": "markdown",
      "id": "GAVJtyTaUA1-",
      "metadata": {
        "id": "GAVJtyTaUA1-"
      },
      "source": [
        "\n",
        "\n",
        "\n",
        "**Exploratory Data Analysis (EDA)**\n",
        "  - **Inspected the dataset** to understand its structure and identify key variables.\n",
        "  - **Cleaned the data** by handling missing values, removing duplicates, and creating new features (e.g., \"FamilySize\").\n",
        "  - **Performed univariate analysis** to explore individual variables like age, gender, and class.\n",
        "  - **Conducted bivariate analysis** to compare survival rates across gender, class, age groups, fare, and family size.\n",
        "\n",
        "**Key Findings**\n",
        "   - **Overall Survival Rate**: Calculated the percentage of passengers who survived.\n",
        "   - **Gender**: Analyzed how survival rates differed between males and females.\n",
        "   - **Age**: Explored the impact of age on survival, including outlier detection and treatment.\n",
        "   - **Class**: Compared survival rates across passenger classes (1st, 2nd, 3rd).\n",
        "   - **Fare**: Investigated the relationship between fare paid and survival.\n",
        "   - **Family Size**: Analyzed how family size (solo travelers vs. families) influenced survival.\n",
        "\n",
        "**Techniques Used**\n",
        "   - **Data Cleaning**: Handled missing values, removed duplicates, and imputed data.\n",
        "   - **Descriptive Statistics**: Summarized key metrics like mean, median, and correlation.\n",
        "   - **Visualizations**: Used bar plots, histograms, box plots, and heatmaps to illustrate findings.\n",
        "   - **Outlier Detection**: Identified and treated outliers in variables like age.\n",
        "   - **Grouped Analysis**: Compared survival rates across categories (e.g., gender, class, family size).\n",
        "\n",
        "**Insights**\n",
        "   - Women and children had higher survival rates.\n",
        "   - First-class passengers were more likely to survive than those in lower classes.\n",
        "   - Passengers with higher fares or smaller family sizes had better survival odds.\n",
        "\n",
        "**Future Enhancements**\n",
        "   - Explore additional variables like port of embarkation.\n",
        "   - Incorporate advanced techniques like predictive modeling.\n"
      ]
    },
    {
      "cell_type": "markdown",
      "id": "bbb7da64-be7b-4053-a22d-8540b5545133",
      "metadata": {
        "id": "bbb7da64-be7b-4053-a22d-8540b5545133"
      },
      "source": [
        "# 2.Data Collection and Understanding"
      ]
    },
    {
      "cell_type": "markdown",
      "id": "MSmwRZYqgH5n",
      "metadata": {
        "id": "MSmwRZYqgH5n"
      },
      "source": [
        "## 2.1. Structure of dataset"
      ]
    },
    {
      "cell_type": "code",
      "execution_count": 1,
      "id": "b210afa0-6e5f-43d5-9241-72dc3ea8cc7f",
      "metadata": {
        "colab": {
          "base_uri": "https://localhost:8080/"
        },
        "id": "b210afa0-6e5f-43d5-9241-72dc3ea8cc7f",
        "outputId": "ce96f194-69b1-423a-cea0-dd910f3b8c4e"
      },
      "outputs": [
        {
          "ename": "ModuleNotFoundError",
          "evalue": "No module named 'numpy'",
          "output_type": "error",
          "traceback": [
            "\u001b[1;31m---------------------------------------------------------------------------\u001b[0m",
            "\u001b[1;31mModuleNotFoundError\u001b[0m                       Traceback (most recent call last)",
            "Cell \u001b[1;32mIn[1], line 2\u001b[0m\n\u001b[0;32m      1\u001b[0m \u001b[38;5;66;03m# Importing necessary libraries\u001b[39;00m\n\u001b[1;32m----> 2\u001b[0m \u001b[38;5;28;01mimport\u001b[39;00m\u001b[38;5;250m \u001b[39m\u001b[38;5;21;01mnumpy\u001b[39;00m\u001b[38;5;250m \u001b[39m\u001b[38;5;28;01mas\u001b[39;00m\u001b[38;5;250m \u001b[39m\u001b[38;5;21;01mnp\u001b[39;00m\n\u001b[0;32m      3\u001b[0m \u001b[38;5;28;01mimport\u001b[39;00m\u001b[38;5;250m \u001b[39m\u001b[38;5;21;01mpandas\u001b[39;00m\u001b[38;5;250m \u001b[39m\u001b[38;5;28;01mas\u001b[39;00m\u001b[38;5;250m \u001b[39m\u001b[38;5;21;01mpd\u001b[39;00m\n\u001b[0;32m      4\u001b[0m \u001b[38;5;28;01mimport\u001b[39;00m\u001b[38;5;250m \u001b[39m\u001b[38;5;21;01msys\u001b[39;00m\n",
            "\u001b[1;31mModuleNotFoundError\u001b[0m: No module named 'numpy'"
          ]
        }
      ],
      "source": [
        "# Importing necessary libraries\n",
        "import numpy as np\n",
        "import pandas as pd\n",
        "import sys\n",
        "\n",
        "\n",
        "# Checking versions of libraries\n",
        "print(f\"Pandas version: {pd.__version__}\")\n",
        "print(f\"NumPy version: {np.__version__}\")\n",
        "print(f\"Python version: {sys.version}\")\n"
      ]
    },
    {
      "cell_type": "code",
      "execution_count": null,
      "id": "bxdTHFmGbWhr",
      "metadata": {
        "colab": {
          "base_uri": "https://localhost:8080/",
          "height": 206
        },
        "id": "bxdTHFmGbWhr",
        "outputId": "167183b4-e6be-4dad-cfd6-d58f288dee4f"
      },
      "outputs": [
        {
          "ename": "ModuleNotFoundError",
          "evalue": "No module named 'pandas'",
          "output_type": "error",
          "traceback": [
            "\u001b[1;31m---------------------------------------------------------------------------\u001b[0m",
            "\u001b[1;31mModuleNotFoundError\u001b[0m                       Traceback (most recent call last)",
            "Cell \u001b[1;32mIn[1], line 1\u001b[0m\n\u001b[1;32m----> 1\u001b[0m \u001b[38;5;28;01mimport\u001b[39;00m\u001b[38;5;250m \u001b[39m\u001b[38;5;21;01mpandas\u001b[39;00m\u001b[38;5;250m \u001b[39m\u001b[38;5;28;01mas\u001b[39;00m\u001b[38;5;250m \u001b[39m\u001b[38;5;21;01mpd\u001b[39;00m\n\u001b[0;32m      3\u001b[0m \u001b[38;5;66;03m# Original dataset source:  original_url = https://www.kaggle.com/competitions/titanic/data?select=train.csv\u001b[39;00m\n\u001b[0;32m      4\u001b[0m \n\u001b[0;32m      5\u001b[0m \u001b[38;5;66;03m# RAW URL of the modified CSV file on GitHub\u001b[39;00m\n\u001b[0;32m      6\u001b[0m url \u001b[38;5;241m=\u001b[39m \u001b[38;5;124m\"\u001b[39m\u001b[38;5;124mhttps://github.com/FabriceGhislain7/data-analytics-portfoglio/blob/main/titanic_streamlik/src/data/data_titanic.csv\u001b[39m\u001b[38;5;124m\"\u001b[39m\n",
            "\u001b[1;31mModuleNotFoundError\u001b[0m: No module named 'pandas'"
          ]
        }
      ],
      "source": [
        "import pandas as pd\n",
        "\n",
        "# Original dataset source:  original_url = https://www.kaggle.com/competitions/titanic/data?select=train.csv\n",
        "\n",
        "# RAW URL of the modified CSV file on GitHub\n",
        "url = \"https://github.com/FabriceGhislain7/data-analytics-portfoglio/blob/main/titanic_streamlik/src/data/data_titanic.csv\"\n",
        "\n",
        "# Load the dataset from GitHub\n",
        "data = pd.read_csv(url)\n",
        "\n",
        "# Display the first few rows\n",
        "data.head()"
      ]
    },
    {
      "cell_type": "code",
      "execution_count": null,
      "id": "dxoEE6LAbuhD",
      "metadata": {
        "colab": {
          "base_uri": "https://localhost:8080/",
          "height": 206
        },
        "id": "dxoEE6LAbuhD",
        "outputId": "be0c1dff-f985-4522-eb65-c04e29cdb83d"
      },
      "outputs": [],
      "source": [
        "# Display the last 5 rows of the dataset\n",
        "\n",
        "data.tail()"
      ]
    },
    {
      "cell_type": "code",
      "execution_count": null,
      "id": "b9e55e6b-7495-4f8b-bbb9-ecc3d15ca601",
      "metadata": {
        "colab": {
          "base_uri": "https://localhost:8080/"
        },
        "id": "b9e55e6b-7495-4f8b-bbb9-ecc3d15ca601",
        "outputId": "95843266-e90b-4627-ae87-3d5a87f48f0e"
      },
      "outputs": [],
      "source": [
        "# Return the size of the data, i.e., number of rows and columns\n",
        "print(f\"The dataset contains {data.shape[0]} rows and {data.shape[1]} columns.\")\n",
        "\n",
        "data.shape"
      ]
    },
    {
      "cell_type": "code",
      "execution_count": null,
      "id": "e9846ac0-f1af-49db-a55c-78cbfaacb260",
      "metadata": {
        "colab": {
          "base_uri": "https://localhost:8080/"
        },
        "id": "e9846ac0-f1af-49db-a55c-78cbfaacb260",
        "outputId": "f18d78fe-975f-44e6-9298-319b39d467e4"
      },
      "outputs": [],
      "source": [
        "# Enumerate the columns of the dataset (i.e., the labels or headers of each column)\n",
        "\n",
        "print(\"The column labels in the dataset are:\")\n",
        "data.columns"
      ]
    },
    {
      "cell_type": "code",
      "execution_count": null,
      "id": "91934952-e6a6-45db-b8ca-b055d2c710a2",
      "metadata": {
        "colab": {
          "base_uri": "https://localhost:8080/",
          "height": 478
        },
        "id": "91934952-e6a6-45db-b8ca-b055d2c710a2",
        "outputId": "70810ed7-9eb9-4a20-b9ac-03b8c80280b3"
      },
      "outputs": [],
      "source": [
        "# Check the data types of each column in the dataset\n",
        "\n",
        "print(\"Data types of each column in the dataset:\")\n",
        "data.dtypes"
      ]
    },
    {
      "cell_type": "code",
      "execution_count": null,
      "id": "0ec373a6-a636-4185-96ea-5a04be8c6e5f",
      "metadata": {
        "colab": {
          "base_uri": "https://localhost:8080/"
        },
        "id": "0ec373a6-a636-4185-96ea-5a04be8c6e5f",
        "outputId": "5433dc17-96c0-444e-f328-b9c1939b11d9"
      },
      "outputs": [],
      "source": [
        "# Dataset information\n",
        "\n",
        "print(\"Summary of the dataset:\")\n",
        "data.info()"
      ]
    },
    {
      "cell_type": "markdown",
      "id": "lCya1PwtfoJO",
      "metadata": {
        "id": "lCya1PwtfoJO"
      },
      "source": [
        "## 2.2. Check the missing values."
      ]
    },
    {
      "cell_type": "code",
      "execution_count": null,
      "id": "a4566d71-25f0-4e96-b924-5d96089654ed",
      "metadata": {
        "colab": {
          "base_uri": "https://localhost:8080/",
          "height": 442
        },
        "id": "a4566d71-25f0-4e96-b924-5d96089654ed",
        "outputId": "bacc969a-9b54-463e-aa60-e44d03c13fb4"
      },
      "outputs": [],
      "source": [
        "# Identify missing values in the dataset\n",
        "\n",
        "print(\"Missing values in the dataset (True = missing, False = present):\")\n",
        "data.isnull()\n"
      ]
    },
    {
      "cell_type": "code",
      "execution_count": null,
      "id": "1fae8198-20a5-408f-a117-6bcd7a83e4b5",
      "metadata": {
        "colab": {
          "base_uri": "https://localhost:8080/",
          "height": 496
        },
        "id": "1fae8198-20a5-408f-a117-6bcd7a83e4b5",
        "outputId": "29542a05-3523-4a25-b8c4-2eba62c2c753"
      },
      "outputs": [],
      "source": [
        "# Count the number of missing values in each column\n",
        "\n",
        "print(\"Number of missing values per column:\\n\")\n",
        "\n",
        "# Calculate missing values\n",
        "data_mis_val = data.isnull().sum()\n",
        "\n",
        "data_mis_val\n"
      ]
    },
    {
      "cell_type": "code",
      "execution_count": null,
      "id": "1AQtPLWmg4iT",
      "metadata": {
        "colab": {
          "base_uri": "https://localhost:8080/",
          "height": 478
        },
        "id": "1AQtPLWmg4iT",
        "outputId": "b65a72d7-4f46-4094-fe90-d0621c2da61a"
      },
      "outputs": [],
      "source": [
        "# Optional: Calculate the percentage of missing values per column\n",
        "data_mis_val_perc = (data_mis_val / len(data)) * 100\n",
        "\n",
        "print(\"Percentage of missing values per column:\")\n",
        "data_mis_val_perc"
      ]
    },
    {
      "cell_type": "code",
      "execution_count": null,
      "id": "k_vynZY8hNJa",
      "metadata": {
        "colab": {
          "base_uri": "https://localhost:8080/",
          "height": 614
        },
        "id": "k_vynZY8hNJa",
        "outputId": "e4311231-c484-4afa-a299-2fd96cfaabc0"
      },
      "outputs": [],
      "source": [
        "# Detailed visualization of missing values (optional)\n",
        "import matplotlib.pyplot as plt\n",
        "import seaborn as sns\n",
        "\n",
        "# Visualize missing values using a heatmap\n",
        "plt.figure(figsize=(10, 6))\n",
        "sns.heatmap(data.isnull(), cbar=False, cmap=\"viridis\")\n",
        "plt.title(\"Heatmap of Missing Values\")\n",
        "plt.show()"
      ]
    },
    {
      "cell_type": "code",
      "execution_count": null,
      "id": "p12K57cQh71l",
      "metadata": {
        "colab": {
          "base_uri": "https://localhost:8080/",
          "height": 634
        },
        "id": "p12K57cQh71l",
        "outputId": "e8899157-04f1-42dc-d9fe-4e96fb1d71af"
      },
      "outputs": [],
      "source": [
        "# Bar plot of missing values per column\n",
        "data_mis_val_perc.plot(kind='bar', figsize=(8, 6))\n",
        "plt.title(\"Percentage of Missing Values per Column\")\n",
        "plt.ylabel(\"Percentage\")\n",
        "plt.xlabel(\"Columns\")\n",
        "plt.show()"
      ]
    },
    {
      "cell_type": "markdown",
      "id": "jCVd8fxogd7M",
      "metadata": {
        "id": "jCVd8fxogd7M"
      },
      "source": [
        "## 2.3.Check the duplicates rows"
      ]
    },
    {
      "cell_type": "code",
      "execution_count": null,
      "id": "cmYQlOa0gZdT",
      "metadata": {
        "colab": {
          "base_uri": "https://localhost:8080/",
          "height": 459
        },
        "id": "cmYQlOa0gZdT",
        "outputId": "c8d285e8-2fc3-435f-9179-a86e895d4232"
      },
      "outputs": [],
      "source": [
        "# Check for duplicate rows in the dataset\n",
        "\n",
        "data_dup_rows = data.duplicated()\n",
        "data_dup_rows"
      ]
    },
    {
      "cell_type": "code",
      "execution_count": null,
      "id": "KFrYSpJSgjUg",
      "metadata": {
        "colab": {
          "base_uri": "https://localhost:8080/"
        },
        "id": "KFrYSpJSgjUg",
        "outputId": "506eda29-1ef4-4879-f5b0-a60229a1bf78"
      },
      "outputs": [],
      "source": [
        "# Count and display the total number of duplicate rows\n",
        "\n",
        "print(f\"Number of duplicate rows: {data_dup_rows.sum()}\")\n",
        "data_dup_rows.sum()\n"
      ]
    },
    {
      "cell_type": "code",
      "execution_count": null,
      "id": "69uulbXYeH6A",
      "metadata": {
        "colab": {
          "base_uri": "https://localhost:8080/"
        },
        "id": "69uulbXYeH6A",
        "outputId": "fb3c180b-3262-4dfb-f363-45b5a4d947d4"
      },
      "outputs": [],
      "source": [
        "# Get the index of duplicate rows\n",
        "data_dup_rows_ind = data_dup_rows[data_dup_rows].index\n",
        "data_dup_rows_ind"
      ]
    },
    {
      "cell_type": "code",
      "execution_count": null,
      "id": "e9c0107e-6350-405f-ad83-46c1297ec4af",
      "metadata": {
        "colab": {
          "base_uri": "https://localhost:8080/"
        },
        "id": "e9c0107e-6350-405f-ad83-46c1297ec4af",
        "outputId": "988ac541-fcc9-45b8-be55-c9f2ac292f3e"
      },
      "outputs": [],
      "source": [
        "# Identify columns where all values are missing\n",
        "\n",
        "all_null_columns = data.columns[data.isnull().all()]\n",
        "print(all_null_columns)\n"
      ]
    },
    {
      "cell_type": "code",
      "execution_count": null,
      "id": "bsvYTPKmerPS",
      "metadata": {
        "colab": {
          "base_uri": "https://localhost:8080/",
          "height": 89
        },
        "id": "bsvYTPKmerPS",
        "outputId": "077675c7-c92f-40bd-b6f9-dfded1a2bdf6"
      },
      "outputs": [],
      "source": [
        "# Create a DataFrame containing only duplicate rows for inspection\n",
        "df_data_dup = data[data_dup_rows]\n",
        "df_data_dup"
      ]
    },
    {
      "cell_type": "code",
      "execution_count": null,
      "id": "77ca48b9-5859-4b2e-885c-d6475d03ae49",
      "metadata": {
        "colab": {
          "base_uri": "https://localhost:8080/"
        },
        "id": "77ca48b9-5859-4b2e-885c-d6475d03ae49",
        "outputId": "039fbe50-a041-49f6-f030-aa0504c36130"
      },
      "outputs": [],
      "source": [
        "# Check the memory usage of the dataset\n",
        "print(data.memory_usage())"
      ]
    },
    {
      "cell_type": "markdown",
      "id": "080e5006-df11-4a33-b979-1bf1fd2d274c",
      "metadata": {
        "id": "080e5006-df11-4a33-b979-1bf1fd2d274c"
      },
      "source": [
        "# 3.Data Cleaning and Preprocessing"
      ]
    },
    {
      "cell_type": "code",
      "execution_count": null,
      "id": "a56553be-37b7-4349-829b-aa4f79f35914",
      "metadata": {
        "colab": {
          "base_uri": "https://localhost:8080/"
        },
        "id": "a56553be-37b7-4349-829b-aa4f79f35914",
        "outputId": "d0f1035d-dfc3-4978-a461-4d6b89a85d8e"
      },
      "outputs": [],
      "source": [
        "# 1. Overview of missing values per column\n",
        "# Count the number of missing values in each column\n",
        "mis_val_by_col = data.isnull().sum()\n",
        "print(f\"Number of missing values per column:\\n{mis_val_by_col}\")\n",
        "\n",
        "# Check the total number of missing values in the dataset\n",
        "print(f\"Total number of missing values in the dataset: {mis_val_by_col.sum()}\")\n"
      ]
    },
    {
      "cell_type": "markdown",
      "id": "e6049156-f624-4825-846b-fca33a626abc",
      "metadata": {
        "id": "e6049156-f624-4825-846b-fca33a626abc"
      },
      "source": [
        "## 3.1. Cleaning Method 1: Removing Duplicate Rows .\n"
      ]
    },
    {
      "cell_type": "code",
      "execution_count": null,
      "id": "71c541ed-2f27-4aff-bb2e-3240b158aba7",
      "metadata": {
        "colab": {
          "base_uri": "https://localhost:8080/"
        },
        "id": "71c541ed-2f27-4aff-bb2e-3240b158aba7",
        "outputId": "62c1d08e-2374-4b77-9c10-c555706b70f2"
      },
      "outputs": [],
      "source": [
        "# Show the first few duplicate rows (if any)\n",
        "if data.duplicated().any():\n",
        "    print(\"Duplicate rows in the dataset:\")\n",
        "    print(data[data.duplicated()])\n",
        "else:\n",
        "    print(\"No duplicate rows found in the dataset.\")\n"
      ]
    },
    {
      "cell_type": "code",
      "execution_count": null,
      "id": "522340aa-a72b-4e12-9e0b-fe64fef408cd",
      "metadata": {
        "colab": {
          "base_uri": "https://localhost:8080/"
        },
        "id": "522340aa-a72b-4e12-9e0b-fe64fef408cd",
        "outputId": "91f6541a-b74d-4a9a-8afc-321d04a4bdd7"
      },
      "outputs": [],
      "source": [
        "# Removing duplicate rows\n",
        "# ----------------------------------------\n",
        "# The .drop_duplicates() method removes all duplicate rows, keeping only the first occurrence.\n",
        "data_cleaned1 = data.drop_duplicates()\n",
        "\n",
        "# Compare the number of rows before and after removing duplicates\n",
        "num_duplicates = len(data) - len(data_cleaned1)\n",
        "\n",
        "print(f\"Number of rows before removing duplicates: {len(data)}\")\n",
        "print(f\"Number of duplicate rows identified: {num_duplicates}\")\n",
        "print(f\"Number of rows after removing duplicates: {len(data_cleaned1)}\")\n"
      ]
    },
    {
      "cell_type": "markdown",
      "id": "93df5810-18ce-46cc-b0d3-dda561ab8d44",
      "metadata": {
        "id": "93df5810-18ce-46cc-b0d3-dda561ab8d44"
      },
      "source": [
        "## 3.2.Cleaning Method 2: Removing rows with missing values"
      ]
    },
    {
      "cell_type": "code",
      "execution_count": null,
      "id": "e190e495-b8ca-4104-b740-06b3594bc461",
      "metadata": {
        "colab": {
          "base_uri": "https://localhost:8080/"
        },
        "id": "e190e495-b8ca-4104-b740-06b3594bc461",
        "outputId": "92d4ac47-1b93-4869-98ef-8d0863c36e04"
      },
      "outputs": [],
      "source": [
        "# Define a threshold: If more than 50% of a column's values are missing, drop the column\n",
        "threshold = data.shape[0] / 2  # At least 50% non-null values required\n",
        "\n",
        "# Drop columns where more than 50% of values are missing\n",
        "data_cleaned2 = data.dropna(axis=1, thresh=threshold)\n",
        "\n",
        "# Compare the number of columns before and after removal\n",
        "print(f\"Number of columns before removing missing values: {data.shape[1]}\")\n",
        "print(f\"Number of columns after removing missing values: {data_cleaned2.shape[1]}\")\n",
        "\n",
        "# Display dataset information to verify changes\n",
        "data_cleaned2.info()"
      ]
    },
    {
      "cell_type": "code",
      "execution_count": null,
      "id": "84c38108-29b2-4ec2-bbfe-cc9cf2e29d92",
      "metadata": {
        "colab": {
          "base_uri": "https://localhost:8080/",
          "height": 465
        },
        "id": "84c38108-29b2-4ec2-bbfe-cc9cf2e29d92",
        "outputId": "97af04ef-7c11-4229-e42d-ac8f56b61c51"
      },
      "outputs": [],
      "source": [
        "\n",
        "# Now remove rows where 'Age' is missing\n",
        "data_cleaned3 = data_cleaned2.dropna(subset=['Age', 'Embarked'])\n",
        "\n",
        "# Compare the number of rows before and after removing missing 'Age' values\n",
        "print(f\"Number of rows before removing missing 'Age': {len(data_cleaned2)}\")\n",
        "print(f\"Number of rows after removing missing 'Age': {len(data_cleaned3)}\")\n",
        "data_cleaned3.isnull().sum()"
      ]
    },
    {
      "cell_type": "markdown",
      "id": "b86336e4-9ad6-4956-a802-2469262c7988",
      "metadata": {
        "id": "b86336e4-9ad6-4956-a802-2469262c7988"
      },
      "source": [
        "## 3.3. Cleaning Method 3: Replacing missing values using the mean."
      ]
    },
    {
      "cell_type": "code",
      "execution_count": null,
      "id": "bb0da706-c52f-4812-ac0b-9c47d2870fb5",
      "metadata": {
        "colab": {
          "base_uri": "https://localhost:8080/"
        },
        "id": "bb0da706-c52f-4812-ac0b-9c47d2870fb5",
        "outputId": "754ff37a-c8ac-4afc-995a-30ce777aa014"
      },
      "outputs": [],
      "source": [
        "# Create data_cleaned4: Fill missing 'Age' values with its mean\n",
        "# Make a copy to avoid modifying data_cleaned2\n",
        "\n",
        "data_cleaned4 = data_cleaned2.copy()\n",
        "data_cleaned4['Age'].fillna(data_cleaned4['Age'].mean(), inplace=True)\n",
        "\n",
        "# Compare the number of missing values in 'Age' before and after replacement\n",
        "print(f\"Number of missing values in 'Age' before replacement: {data_cleaned2['Age'].isnull().sum()}\")\n",
        "print(f\"Number of missing values in 'Age' after replacement: {data_cleaned4['Age'].isnull().sum()}\")\n",
        "\n",
        "# Display dataset information to verify changes\n",
        "data_cleaned4.info()"
      ]
    },
    {
      "cell_type": "code",
      "execution_count": null,
      "id": "5e786c03-229e-4b15-989b-4eb1f07bc463",
      "metadata": {
        "colab": {
          "base_uri": "https://localhost:8080/"
        },
        "id": "5e786c03-229e-4b15-989b-4eb1f07bc463",
        "outputId": "7750ef77-0b3a-4028-d645-b1175a1a64dc"
      },
      "outputs": [],
      "source": [
        "# In addition to the \"Cabin\" column, we copy \"data_cleaned3\",\n",
        "# remove the \"Ticket\" and \"Embarked\" columns, which are not needed for our analysis,\n",
        "# and name the new DataFrame \"df\".\n",
        "df = data_cleaned3.copy()\n",
        "\n",
        "# DataFrame with substituted values for the \"Age\" variable\n",
        "df_subs = data_cleaned4.copy()\n",
        "\n",
        "# Drop the \"Ticket\" and \"Embarked\" columns\n",
        "df.drop([\"Ticket\", \"Embarked\"], axis=1, inplace=True)\n",
        "df_subs.drop([\"Ticket\", \"Embarked\"], axis=1, inplace=True)\n",
        "\n",
        "# Display the updated DataFrame\n",
        "print(f\"Final DataFrame after removing 'Age' values: {df.shape}\")\n",
        "print(f\"Final DataFrame after substituting 'Age' values: {df_subs.shape}\")\n"
      ]
    },
    {
      "cell_type": "markdown",
      "id": "447a4bdf-e65b-4ab3-868b-f947b8534e03",
      "metadata": {
        "id": "447a4bdf-e65b-4ab3-868b-f947b8534e03"
      },
      "source": [
        "Proportion of Data Types in the DataFrame"
      ]
    },
    {
      "cell_type": "code",
      "execution_count": null,
      "id": "fdb7959d-ee34-478f-af56-cf39520a60c6",
      "metadata": {
        "colab": {
          "base_uri": "https://localhost:8080/",
          "height": 598
        },
        "id": "fdb7959d-ee34-478f-af56-cf39520a60c6",
        "outputId": "9849f685-380b-49e5-df3e-f273cc582d00"
      },
      "outputs": [],
      "source": [
        "import matplotlib.pyplot as plt\n",
        "\n",
        "# Count the number of columns by data type\n",
        "data_types = df.dtypes.replace({'int64': 'int', 'float64': 'float', 'object': 'object'}).value_counts()\n",
        "\n",
        "# Define labels and sizes for the pie chart\n",
        "labels = data_types.index\n",
        "sizes = data_types.values\n",
        "\n",
        "# Create the pie chart\n",
        "plt.figure(figsize=(7, 7))\n",
        "plt.pie(sizes, labels=labels, autopct=lambda p: f'{p:.2f}%', startangle=140, colors=[\"skyblue\", \"yellow\", \"lightgreen\"])\n",
        "plt.title(\"Proportion of Data Types in the DataFrame\")\n",
        "plt.legend()\n",
        "plt.show()\n"
      ]
    },
    {
      "cell_type": "markdown",
      "id": "7732ce75-6b05-42f9-9613-8f3b48d92067",
      "metadata": {
        "id": "7732ce75-6b05-42f9-9613-8f3b48d92067"
      },
      "source": [
        "# 4.Exploratory Data Analysis (EDA)"
      ]
    },
    {
      "cell_type": "markdown",
      "id": "b1ac18d6-90da-46d4-b31d-b306ee1c7766",
      "metadata": {
        "id": "b1ac18d6-90da-46d4-b31d-b306ee1c7766"
      },
      "source": [
        "## 4.1. Descriptive Statistics of the Entire DataFrame and Grouped Data"
      ]
    },
    {
      "cell_type": "markdown",
      "id": "37b1079f-0fbe-44ff-a05c-23cbde0341d2",
      "metadata": {
        "id": "37b1079f-0fbe-44ff-a05c-23cbde0341d2"
      },
      "source": [
        "Understanding iloc (Integer Location-Based Indexing)"
      ]
    },
    {
      "cell_type": "code",
      "execution_count": null,
      "id": "ebca5586-586c-4ab9-8c66-970c6305f504",
      "metadata": {
        "colab": {
          "base_uri": "https://localhost:8080/",
          "height": 1000
        },
        "id": "ebca5586-586c-4ab9-8c66-970c6305f504",
        "outputId": "c23e1464-1179-470a-a424-25e9165d26df"
      },
      "outputs": [],
      "source": [
        "# Select the first row (without specifying columns)\n",
        "print(\"Select the first row (without specifying columns)\")\n",
        "print(df.iloc[0])\n",
        "print()\n",
        "\n",
        "# Select the first row (index 0) and all columns using `:`\n",
        "print(\"Select the first row (index 0) and all columns using `:\")\n",
        "print(df.iloc[0, :])\n",
        "print()\n",
        "\n",
        "# Select the first two rows (index 0 to 1, excluding index 2)\n",
        "print(\"Select the first two rows (index 0 to 1, excluding index 2):\")\n",
        "print(df.iloc[0:2])\n",
        "print()\n",
        "\n",
        "# Select all rows and only the last column, displaying the first 8 rows\n",
        "print(\"Select all rows and only the last column, displaying the first 8 rows\")\n",
        "df.iloc[:, -1].head(8)\n"
      ]
    },
    {
      "cell_type": "markdown",
      "id": "923a8656-eeb1-4a71-8885-ba8b4916ca45",
      "metadata": {
        "id": "923a8656-eeb1-4a71-8885-ba8b4916ca45"
      },
      "source": [
        "Understanding loc (Label-Based Indexing)"
      ]
    },
    {
      "cell_type": "code",
      "execution_count": null,
      "id": "d43255b6-bae1-4fe4-aaaf-45bc76719efc",
      "metadata": {
        "colab": {
          "base_uri": "https://localhost:8080/",
          "height": 312
        },
        "id": "d43255b6-bae1-4fe4-aaaf-45bc76719efc",
        "outputId": "3b627560-7504-4019-f678-f27b04e0da7d"
      },
      "outputs": [],
      "source": [
        "# Select the first row from the \"Name\" column\n",
        "print(' Select the first row from the \"Name\" column')\n",
        "print(df.loc[0, \"Name\"])\n",
        "print()\n",
        "\n",
        "# Select all rows from the \"Name\" column\n",
        "print('Select all rows from the \"Name\" column')\n",
        "df.loc[:, \"Name\"].head()\n"
      ]
    },
    {
      "cell_type": "markdown",
      "id": "6e7d3bc3-1faa-43c4-8a10-32f10764a93c",
      "metadata": {
        "id": "6e7d3bc3-1faa-43c4-8a10-32f10764a93c"
      },
      "source": [
        "### 4.1.1. Overall Descriptive Statistics of the Dataset."
      ]
    },
    {
      "cell_type": "code",
      "execution_count": null,
      "id": "8be6d778-cc20-4968-a85e-1670e7c8436e",
      "metadata": {
        "colab": {
          "base_uri": "https://localhost:8080/"
        },
        "id": "8be6d778-cc20-4968-a85e-1670e7c8436e",
        "outputId": "3250b638-6ea2-49ef-ae60-b730ead3a956"
      },
      "outputs": [],
      "source": [
        "# Get unique values only for categorical (object) columns, excluding \"Name\"\n",
        "unique_values_object = {\n",
        "    col: df[col].unique() for col in df.select_dtypes(include=['object']).columns if col != \"Name\"\n",
        "}\n",
        "\n",
        "# Display the unique values for each categorical column\n",
        "for col, values in unique_values_object.items():\n",
        "    print(f\" Unique values in '{col}':\\n{values}\\n\")\n"
      ]
    },
    {
      "cell_type": "code",
      "execution_count": null,
      "id": "b2c3ba0d-6e7f-4986-80fb-deec62c42bec",
      "metadata": {
        "colab": {
          "base_uri": "https://localhost:8080/",
          "height": 394
        },
        "id": "b2c3ba0d-6e7f-4986-80fb-deec62c42bec",
        "outputId": "dbad5ad8-5174-4046-eed8-1548ce82d961"
      },
      "outputs": [],
      "source": [
        "# Statistical characteristics of all variables in the dataset, regardless of type\n",
        "df.describe(include=\"all\")\n",
        "# df.describe(percentiles=[],include = 'all' )\n"
      ]
    },
    {
      "cell_type": "code",
      "execution_count": null,
      "id": "9be941c0-e944-47cd-bfc4-5f606628efd9",
      "metadata": {
        "colab": {
          "base_uri": "https://localhost:8080/",
          "height": 300
        },
        "id": "9be941c0-e944-47cd-bfc4-5f606628efd9",
        "outputId": "dad343ef-d443-433b-953d-3d5fd16c460e"
      },
      "outputs": [],
      "source": [
        "# If I only want a statistical description of the numerical variables,\n",
        "df.describe()\n"
      ]
    },
    {
      "cell_type": "code",
      "execution_count": null,
      "id": "0027928c-51f4-4dd7-a994-1902b8b583a1",
      "metadata": {
        "colab": {
          "base_uri": "https://localhost:8080/",
          "height": 394
        },
        "id": "0027928c-51f4-4dd7-a994-1902b8b583a1",
        "outputId": "c07a46b5-4416-499d-eb4b-e8f2011685a2"
      },
      "outputs": [],
      "source": [
        "# I can decide to specify percentiles.\n",
        "df.describe(percentiles=[0.25, 0.5, 0.75], include='all')\n"
      ]
    },
    {
      "cell_type": "code",
      "execution_count": null,
      "id": "0121b681-3fa9-422a-912a-6f5ebaf32ffd",
      "metadata": {
        "colab": {
          "base_uri": "https://localhost:8080/",
          "height": 363
        },
        "id": "0121b681-3fa9-422a-912a-6f5ebaf32ffd",
        "outputId": "d1ab1a72-7e46-43db-ff26-c99d481ca795"
      },
      "outputs": [],
      "source": [
        "# We can specify the percentiles we are interested in.\n",
        "df.describe(percentiles=[0.20, 0.40, 0.60, 0.80])\n"
      ]
    },
    {
      "cell_type": "code",
      "execution_count": null,
      "id": "133989a7-98b8-4e7a-a576-d234f1b3dbe6",
      "metadata": {
        "colab": {
          "base_uri": "https://localhost:8080/",
          "height": 300
        },
        "id": "133989a7-98b8-4e7a-a576-d234f1b3dbe6",
        "outputId": "ae21e443-b3a9-4c9c-b251-6c921bff9293"
      },
      "outputs": [],
      "source": [
        "# You can generate df statistics without including a particular category.\n",
        "df.describe(exclude=[\"object\"])\n"
      ]
    },
    {
      "cell_type": "code",
      "execution_count": null,
      "id": "f6fbc57c-248b-43ef-acd1-8a9eba05bf81",
      "metadata": {
        "colab": {
          "base_uri": "https://localhost:8080/",
          "height": 175
        },
        "id": "f6fbc57c-248b-43ef-acd1-8a9eba05bf81",
        "outputId": "9aba63fc-4764-4af4-835c-ab8db0f44a68"
      },
      "outputs": [],
      "source": [
        "# Here, we have removed the numerical variables (‘int’ and ‘float’), keeping only categorical variables (‘object’).\n",
        "# As a result, the statistical summary will only include categorical columns.\n",
        "# Since the remaining variables are non-numeric, percentiles are not displayed in the output.\n",
        "\n",
        "df.describe(exclude=['int', 'float'])\n",
        "\n",
        "# If we try to add the `percentiles` parameter to the previous code, we get an error.\n",
        "# This happens because there are no numerical variables left to calculate percentiles.\n",
        "\n",
        "# df.describe(exclude=['int', 'float'], percentiles=[0.20, 0.40, 0.60])  # This code will result in an error.\n",
        "\n",
        "# Alternative: If you need a summary of both categorical and numerical variables, use:\n",
        "# df.describe(include='all')\n"
      ]
    },
    {
      "cell_type": "code",
      "execution_count": null,
      "id": "69c1df3a-64be-43ff-a804-f14636e7438b",
      "metadata": {
        "colab": {
          "base_uri": "https://localhost:8080/",
          "height": 300
        },
        "id": "69c1df3a-64be-43ff-a804-f14636e7438b",
        "outputId": "77f02f04-69dd-44b8-b031-e0c1f3864a62"
      },
      "outputs": [],
      "source": [
        "# You can also include only the columns that interest us.\n",
        "# In this case, we will include both categorical and numerical variables.\n",
        "\n",
        "df[['Name', 'Sex', 'Age', 'Survived']].describe()\n",
        "\n",
        "# If we want to see a statistical summary including both numerical and categorical columns, we use:\n",
        "# df[['Name', 'Sex', 'Age', 'Survived']].describe(include='all')\n"
      ]
    },
    {
      "cell_type": "markdown",
      "id": "9e5c58f4-94d3-4d16-9ed7-6a210e840b33",
      "metadata": {
        "id": "9e5c58f4-94d3-4d16-9ed7-6a210e840b33"
      },
      "source": [
        "Visualize numerical variables (histograms, boxplots)"
      ]
    },
    {
      "cell_type": "code",
      "execution_count": null,
      "id": "385ee727-a0de-4191-8a15-30ad0f9c470a",
      "metadata": {
        "colab": {
          "base_uri": "https://localhost:8080/",
          "height": 774
        },
        "id": "385ee727-a0de-4191-8a15-30ad0f9c470a",
        "outputId": "9eb3f68a-ee14-4d0d-b3db-839ba95f8cc3"
      },
      "outputs": [],
      "source": [
        "import matplotlib.pyplot as plt\n",
        "import seaborn as sns\n",
        "\n",
        "# Plot histograms for all numerical variables\n",
        "dfn = df.select_dtypes(include=[\"int64\", \"float64\"])  # Select only numerical columns\n",
        "\n",
        "plt.figure(figsize=(12, 6))\n",
        "dfn.hist(bins=20, figsize=(12, 8), color='skyblue', edgecolor='black')\n",
        "plt.suptitle(\"Histograms of Numerical Variables\", fontsize=14)\n",
        "plt.show()\n"
      ]
    },
    {
      "cell_type": "markdown",
      "id": "843e7e84-97af-4615-9d18-c0f217d053db",
      "metadata": {
        "id": "843e7e84-97af-4615-9d18-c0f217d053db"
      },
      "source": [
        "Observations"
      ]
    },
    {
      "cell_type": "markdown",
      "id": "bd81efaa-ffc5-47ab-9006-877e9bb3fd03",
      "metadata": {
        "id": "bd81efaa-ffc5-47ab-9006-877e9bb3fd03"
      },
      "source": [
        "- Before generating the boxplot, \"PassengerId\" was removed because it is a unique identifier and does not contribute to statistical analysis.  \n",
        "- Keeping \"PassengerId\" distorts the boxplot, as its large numerical values compress the scale of other variables, making their distributions harder to interpret.  \n",
        "- Boxplots are meant for meaningful numerical variables like \"Age\", \"Fare\", \"SibSp\", and \"Parch\", which have statistical significance.  \n",
        "- Removing unnecessary variables (such as \"PassengerId\", \"Ticket\", or \"Name\") improves the clarity and accuracy of visualizations.  \n"
      ]
    },
    {
      "cell_type": "code",
      "execution_count": null,
      "id": "d4a17744-800a-4222-b65c-7c10af6e2eb3",
      "metadata": {
        "colab": {
          "base_uri": "https://localhost:8080/"
        },
        "id": "d4a17744-800a-4222-b65c-7c10af6e2eb3",
        "outputId": "29a062d7-d1b3-4173-a416-1ab9bc5835e1"
      },
      "outputs": [],
      "source": [
        "# Create a new DataFrame without \"PassengerId\"\n",
        "dfn_new = dfn.drop([\"PassengerId\"], axis=1, inplace=False)\n",
        "\n",
        "# Check the structure of the modified DataFrame\n",
        "dfn_new.info()\n"
      ]
    },
    {
      "cell_type": "code",
      "execution_count": null,
      "id": "145a55ec-7ffa-406f-8660-52ae1c451725",
      "metadata": {
        "colab": {
          "base_uri": "https://localhost:8080/",
          "height": 584
        },
        "id": "145a55ec-7ffa-406f-8660-52ae1c451725",
        "outputId": "4e7ac1d8-0001-4883-818d-f695bab15cee"
      },
      "outputs": [],
      "source": [
        "\n",
        "# Plot boxplots for numerical variables\n",
        "plt.figure(figsize=(10, 6))\n",
        "sns.boxplot(data=dfn_new, palette=\"Set2\")\n",
        "plt.title(\"Boxplot of Numerical Variables\")\n",
        "plt.xticks(rotation=45)\n",
        "plt.show()\n"
      ]
    },
    {
      "cell_type": "markdown",
      "id": "aed075fa-55d3-4cf5-b573-42cc2dfe7dfb",
      "metadata": {
        "id": "aed075fa-55d3-4cf5-b573-42cc2dfe7dfb"
      },
      "source": [
        "Detecting & Handling Outliers in the Entire DataFrame"
      ]
    },
    {
      "cell_type": "code",
      "execution_count": null,
      "id": "4ab6535c-412c-4e74-8ff2-f66b22ec910f",
      "metadata": {
        "colab": {
          "base_uri": "https://localhost:8080/"
        },
        "id": "4ab6535c-412c-4e74-8ff2-f66b22ec910f",
        "outputId": "a587800b-7f2c-4c27-9e35-ab3ad7414c71"
      },
      "outputs": [],
      "source": [
        "import numpy as np\n",
        "import pandas as pd\n",
        "\n",
        "def detect_and_handle_outliers(df, method=\"IQR\", replace_with=\"mean\", lower_q=0.25, upper_q=0.75, column=\"all\"):\n",
        "    \"\"\"\n",
        "    Detects and either removes or replaces outliers in a DataFrame using the IQR method.\n",
        "\n",
        "    Parameters:\n",
        "    - df (DataFrame): The input DataFrame.\n",
        "    - method (str): The method used to handle outliers. Options: \"IQR\" (Interquartile Range).\n",
        "    - replace_with (str): The method to replace outliers. Options: \"remove\", \"mean\", \"median\", or \"mode\".\n",
        "    - lower_q (float): Lower quantile threshold (default 0.25).\n",
        "    - upper_q (float): Upper quantile threshold (default 0.75).\n",
        "    - column (str): Column to process. If \"all\", applies to all numerical columns.\n",
        "\n",
        "    Returns:\n",
        "    - df_outliers (DataFrame): A DataFrame containing only the detected outliers.\n",
        "    - df_cleaned (DataFrame): A DataFrame after outlier removal or replacement.\n",
        "    \"\"\"\n",
        "\n",
        "    df_outliers = pd.DataFrame()  # Initialize empty DataFrame\n",
        "    df_cleaned = df.copy()  # Copy of the original DataFrame\n",
        "\n",
        "    # Determine which columns to process\n",
        "    if column == \"all\":\n",
        "        cols_to_process = df.select_dtypes(include=[\"int64\", \"float64\"]).columns\n",
        "    else:\n",
        "        if column in df.columns and df[column].dtype in [\"int64\", \"float64\"]:\n",
        "            cols_to_process = [column]\n",
        "        else:\n",
        "            raise ValueError(f\"Column '{column}' is not numerical or does not exist in the DataFrame.\")\n",
        "\n",
        "    # Loop through selected numerical columns #\n",
        "    for col in cols_to_process:\n",
        "        Q1 = df[col].quantile(lower_q)\n",
        "        Q3 = df[col].quantile(upper_q)\n",
        "        IQR = Q3 - Q1\n",
        "\n",
        "        lower_bound = Q1 - 1.5 * IQR\n",
        "        upper_bound = Q3 + 1.5 * IQR\n",
        "\n",
        "        # Detect outliers\n",
        "        outliers = df[(df[col] < lower_bound) | (df[col] > upper_bound)]\n",
        "\n",
        "        # Fix: Only concatenate if outliers exist\n",
        "        if not outliers.empty:\n",
        "            df_outliers = pd.concat([df_outliers, outliers])\n",
        "\n",
        "        if method == \"IQR\":\n",
        "            if replace_with == \"remove\":\n",
        "                # Remove outliers\n",
        "                df_cleaned = df_cleaned[(df_cleaned[col] >= lower_bound) & (df_cleaned[col] <= upper_bound)]\n",
        "            elif replace_with == \"mean\":\n",
        "                # Replace outliers with the mean\n",
        "                mean_value = df_cleaned[(df_cleaned[col] >= lower_bound) & (df_cleaned[col] <= upper_bound)][col].mean()\n",
        "                df_cleaned.loc[(df_cleaned[col] < lower_bound) | (df_cleaned[col] > upper_bound), col] = mean_value\n",
        "            elif replace_with == \"median\":\n",
        "                # Replace outliers with the median\n",
        "                median_value = df_cleaned[(df_cleaned[col] >= lower_bound) & (df_cleaned[col] <= upper_bound)][col].median()\n",
        "                df_cleaned.loc[(df_cleaned[col] < lower_bound) | (df_cleaned[col] > upper_bound), col] = median_value\n",
        "            elif replace_with == \"mode\":\n",
        "                # Replace outliers with the mode\n",
        "                mode_value = df_cleaned[col].mode()[0]\n",
        "                df_cleaned.loc[(df_cleaned[col] < lower_bound) | (df_cleaned[col] > upper_bound), col] = mode_value\n",
        "\n",
        "    return df_outliers, df_cleaned\n",
        "\n",
        "# Detect and remove outliers for all numerical columns\n",
        "dfn_outliers_removed, dfn_cleaned_removed = detect_and_handle_outliers(dfn_new, method=\"IQR\", replace_with=\"remove\")\n",
        "print(dfn_cleaned_removed.info())\n",
        "print()\n",
        "\n",
        "# Detect and replace outliers with the mean for all numerical columns\n",
        "dfn_outliers_replaced, dfn_cleaned_replaced = detect_and_handle_outliers(dfn_new, method=\"IQR\", replace_with=\"mean\")\n",
        "print(dfn_cleaned_replaced.info())"
      ]
    },
    {
      "cell_type": "code",
      "execution_count": null,
      "id": "5312da9b-008e-4d47-b43a-5b7707debb50",
      "metadata": {
        "colab": {
          "base_uri": "https://localhost:8080/",
          "height": 584
        },
        "id": "5312da9b-008e-4d47-b43a-5b7707debb50",
        "outputId": "764e49f8-5462-4b62-8000-ca2b39bd6619"
      },
      "outputs": [],
      "source": [
        "\n",
        "# Plot boxplots for numerical variables\n",
        "plt.figure(figsize=(10, 6))\n",
        "sns.boxplot(data = dfn_cleaned_removed, palette=\"Set2\")\n",
        "plt.title(\"Boxplot of Numerical Variables\")\n",
        "plt.xticks(rotation=45)\n",
        "plt.show()\n"
      ]
    },
    {
      "cell_type": "code",
      "execution_count": null,
      "id": "d636e716-2f98-4ae7-84e0-8eed7e3b14b4",
      "metadata": {
        "colab": {
          "base_uri": "https://localhost:8080/",
          "height": 584
        },
        "id": "d636e716-2f98-4ae7-84e0-8eed7e3b14b4",
        "outputId": "e2197277-2045-4929-abd7-e8f02badad0e"
      },
      "outputs": [],
      "source": [
        "# Plot boxplots for numerical variables\n",
        "plt.figure(figsize=(10, 6))\n",
        "sns.boxplot(data = dfn_cleaned_replaced, palette=\"Set2\")\n",
        "plt.title(\"Boxplot of Numerical Variables\")\n",
        "plt.xticks(rotation=45)\n",
        "plt.show()\n"
      ]
    },
    {
      "cell_type": "markdown",
      "id": "dcae9757-831b-49db-821c-440f50d9fbf1",
      "metadata": {
        "id": "dcae9757-831b-49db-821c-440f50d9fbf1"
      },
      "source": [
        "Observations :"
      ]
    },
    {
      "cell_type": "markdown",
      "id": "3e1a6718-d425-493e-bd7e-9f2852471a5a",
      "metadata": {
        "id": "3e1a6718-d425-493e-bd7e-9f2852471a5a"
      },
      "source": [
        "- Applying the general outlier-handling function across the dataset improves the boxplot representation by reducing extreme deviations.  \n",
        "- Some outliers are still present, indicating that the IQR method alone may not fully eliminate extreme values in all cases.  \n",
        "- The replacement method (mean, median, or mode) provides a better boxplot representation compared to removal, as it preserves the number of observations while smoothing extreme values.  \n",
        "- The removal method, while effective in eliminating outliers, reduces the dataset size, which may lead to a loss of valuable information and affect overall data distribution.  \n",
        "- Using replacement instead of removal keeps the data more balanced, preventing excessive gaps in visualization and allowing for a more interpretable boxplot.  \n"
      ]
    },
    {
      "cell_type": "markdown",
      "id": "f28c310f-1c3e-4124-b954-489168b68475",
      "metadata": {
        "id": "f28c310f-1c3e-4124-b954-489168b68475"
      },
      "source": [
        "### 4.1.2. Correlation Matrix and Relationship Between Variables."
      ]
    },
    {
      "cell_type": "markdown",
      "id": "69afe642-3c3f-4408-bdf4-cc523afba27d",
      "metadata": {
        "id": "69afe642-3c3f-4408-bdf4-cc523afba27d"
      },
      "source": [
        "We generate a heatmap for displaying the correlation matrix."
      ]
    },
    {
      "cell_type": "markdown",
      "id": "0dcc040c-9527-49b9-854b-9e32bfdc6e03",
      "metadata": {
        "id": "0dcc040c-9527-49b9-854b-9e32bfdc6e03"
      },
      "source": [
        "Spearman correlation (monotonic relationships)"
      ]
    },
    {
      "cell_type": "code",
      "execution_count": null,
      "id": "ea5c2382-d3d5-4d9a-8b72-640deeba9dec",
      "metadata": {
        "colab": {
          "base_uri": "https://localhost:8080/"
        },
        "id": "ea5c2382-d3d5-4d9a-8b72-640deeba9dec",
        "outputId": "bd2b14fa-d397-4431-a890-2867a434cd05"
      },
      "outputs": [],
      "source": [
        "# Select only numerical variables\n",
        "dfn = df.select_dtypes(include=\"number\")\n",
        "\n",
        "# Compute the Spearman correlation matrix\n",
        "corr_spearman = dfn.corr(method=\"spearman\")\n",
        "\n",
        "# Display the Spearman correlation matrix\n",
        "print(\"\\n Spearman Correlation Matrix:\")\n",
        "print(corr_spearman)\n"
      ]
    },
    {
      "cell_type": "code",
      "execution_count": null,
      "id": "e3472783-05e5-4b85-b3e8-3911b91e7b78",
      "metadata": {
        "colab": {
          "base_uri": "https://localhost:8080/",
          "height": 614
        },
        "id": "e3472783-05e5-4b85-b3e8-3911b91e7b78",
        "outputId": "7b26d1cb-b200-432d-802b-2f11f55f3060"
      },
      "outputs": [],
      "source": [
        "import seaborn as sns\n",
        "import matplotlib.pyplot as plt\n",
        "\n",
        "# Select only numerical variables\n",
        "dfn = df.select_dtypes(include=\"number\")\n",
        "\n",
        "# Compute the Spearman correlation matrix\n",
        "corr_spearman = dfn.corr(method=\"spearman\")\n",
        "\n",
        "# Create a heatmap to visualize the Spearman correlation matrix\n",
        "plt.figure(figsize=(8, 6))\n",
        "sns.heatmap(corr_spearman, annot=False, cmap=\"coolwarm\", fmt=\".2f\", linewidths=0.5)\n",
        "plt.title(\"Spearman Correlation Heatmap\")\n",
        "plt.show()\n"
      ]
    },
    {
      "cell_type": "markdown",
      "id": "09144d32-612e-4549-922a-dcd2a93b137d",
      "metadata": {
        "id": "09144d32-612e-4549-922a-dcd2a93b137d"
      },
      "source": [
        "## 4.2. Univariate and Bivariate Analysis"
      ]
    },
    {
      "cell_type": "markdown",
      "id": "9cfbe5a9-cf5b-4f83-a0cb-67dd00a08068",
      "metadata": {
        "id": "9cfbe5a9-cf5b-4f83-a0cb-67dd00a08068"
      },
      "source": [
        "### 4.2.1. Univariate Analysis (Exploring Single Variables)  (Numerical_variable_choice = \"Age\")"
      ]
    },
    {
      "cell_type": "code",
      "execution_count": null,
      "id": "64346df2-d195-4ff1-8807-dbaebfc6ed80",
      "metadata": {
        "colab": {
          "base_uri": "https://localhost:8080/"
        },
        "id": "64346df2-d195-4ff1-8807-dbaebfc6ed80",
        "outputId": "f9cb1b31-8218-4c90-af9d-a346db4fcad9",
        "scrolled": true
      },
      "outputs": [],
      "source": [
        "print(df[\"Age\"])                           # This is how to access a column\n",
        "# dfn.Age.head()                            # You can also write it like this (5 first rows)"
      ]
    },
    {
      "cell_type": "code",
      "execution_count": null,
      "id": "b09189a4-d1a3-483a-9042-93c62c32f273",
      "metadata": {
        "colab": {
          "base_uri": "https://localhost:8080/"
        },
        "id": "b09189a4-d1a3-483a-9042-93c62c32f273",
        "outputId": "adbc67dd-225a-4899-a335-efd28fad5982"
      },
      "outputs": [],
      "source": [
        "# Accessing the first three values of the 'Age' column\n",
        "\n",
        "print(df[\"Age\"][0:3])  # Displays the first three values in the 'Age' column\n",
        "# df.Age[0:3]  # Alternative way to write it\n",
        "\n"
      ]
    },
    {
      "cell_type": "code",
      "execution_count": null,
      "id": "b2b96415-c493-4d61-8850-359a7f53f477",
      "metadata": {
        "colab": {
          "base_uri": "https://localhost:8080/"
        },
        "id": "b2b96415-c493-4d61-8850-359a7f53f477",
        "outputId": "0ff3cdc3-1116-4769-8b53-95d3fff1c339"
      },
      "outputs": [],
      "source": [
        "# Sort the values of the 'Age' column in ascending order\n",
        "sorted_ages = df[\"Age\"].sort_values()\n",
        "\n",
        "# Display the 5 sorted values (without modifying the original DataFrame)\n",
        "print(sorted_ages.head())\n"
      ]
    },
    {
      "cell_type": "code",
      "execution_count": null,
      "id": "b0a73010-04e1-493d-ba8a-c39ae003ed35",
      "metadata": {
        "colab": {
          "base_uri": "https://localhost:8080/",
          "height": 206
        },
        "id": "b0a73010-04e1-493d-ba8a-c39ae003ed35",
        "outputId": "ea97448f-2488-4121-8ee9-59c1438c5201"
      },
      "outputs": [],
      "source": [
        "# Sort the 5 values of a variable in a ascending manner in a column.\n",
        "\n",
        "df.sort_values(by=\"Age\", ascending =True).head()\n"
      ]
    },
    {
      "cell_type": "code",
      "execution_count": null,
      "id": "f3148ba6-2edb-4392-bdd7-6ddc745253bd",
      "metadata": {
        "colab": {
          "base_uri": "https://localhost:8080/",
          "height": 206
        },
        "id": "f3148ba6-2edb-4392-bdd7-6ddc745253bd",
        "outputId": "f4c15fd6-9f3f-4c59-abb6-9e9a497b5f46"
      },
      "outputs": [],
      "source": [
        "# Sort the 5 values of a variable in a descending manner in a column.\n",
        "\n",
        "df.sort_values(by=\"Age\", ascending = False).head()\n"
      ]
    },
    {
      "cell_type": "code",
      "execution_count": null,
      "id": "4a2807da-9240-49c6-85ab-a91a3ea149ee",
      "metadata": {
        "colab": {
          "base_uri": "https://localhost:8080/"
        },
        "id": "4a2807da-9240-49c6-85ab-a91a3ea149ee",
        "outputId": "23d9a0f7-0bac-4cef-f6a3-88a55efd7483"
      },
      "outputs": [],
      "source": [
        "# We can obtain the indices of the values found between our variables\n",
        "\n",
        "print(df[\"Age\"].argsort().head())\n"
      ]
    },
    {
      "cell_type": "code",
      "execution_count": null,
      "id": "d3710a2b-3391-436c-8f82-36900f827869",
      "metadata": {
        "colab": {
          "base_uri": "https://localhost:8080/"
        },
        "id": "d3710a2b-3391-436c-8f82-36900f827869",
        "outputId": "9cdcd4fb-f403-4b16-85a4-946037e7ba2c"
      },
      "outputs": [],
      "source": [
        "# calculate the average explicitly. There are two ways we can use\n",
        "print(df[\"Age\"].mean())\n",
        "# df.Age.mean()"
      ]
    },
    {
      "cell_type": "code",
      "execution_count": null,
      "id": "edd9062f-1073-4c00-a0c8-ee95bda8c7bb",
      "metadata": {
        "colab": {
          "base_uri": "https://localhost:8080/",
          "height": 490
        },
        "id": "edd9062f-1073-4c00-a0c8-ee95bda8c7bb",
        "outputId": "2f1c8609-5a5f-49c4-c342-6da05a4e7adf"
      },
      "outputs": [],
      "source": [
        "# Allows us to count for each individual value in the Series\n",
        "\n",
        "df['Age'].value_counts()\n",
        "# df.Age.value_counts()"
      ]
    },
    {
      "cell_type": "code",
      "execution_count": null,
      "id": "90ec118b-9ae3-4d4f-ad2e-aa7e615d039c",
      "metadata": {
        "colab": {
          "base_uri": "https://localhost:8080/"
        },
        "id": "90ec118b-9ae3-4d4f-ad2e-aa7e615d039c",
        "outputId": "75e2e575-2432-4472-dda5-09a713f9daff"
      },
      "outputs": [],
      "source": [
        "# Calculate the mode of the 'Age' column\n",
        "print(df[\"Age\"].mode())\n",
        "\n",
        "# Alternative way\n",
        "# df.Age.mode()\n"
      ]
    },
    {
      "cell_type": "code",
      "execution_count": null,
      "id": "f5de987d-b800-4234-abfa-479a82c02e6b",
      "metadata": {
        "colab": {
          "base_uri": "https://localhost:8080/"
        },
        "id": "f5de987d-b800-4234-abfa-479a82c02e6b",
        "outputId": "10fb3ed0-9ac3-484b-91e3-3134d1c5747c"
      },
      "outputs": [],
      "source": [
        "# Calculate the median of 'Age'\n",
        "print(df[\"Age\"].median())\n",
        "\n",
        "# Alternative way\n",
        "df.Age.median()\n"
      ]
    },
    {
      "cell_type": "code",
      "execution_count": null,
      "id": "f0df5c80-389a-44fa-b985-732a94f6afa6",
      "metadata": {
        "colab": {
          "base_uri": "https://localhost:8080/"
        },
        "id": "f0df5c80-389a-44fa-b985-732a94f6afa6",
        "outputId": "9bbf991c-2c16-4c55-9a99-595446235a17"
      },
      "outputs": [],
      "source": [
        "# Calculate variance of 'Age'\n",
        "print(df[\"Age\"].var())\n",
        "\n",
        "# Alternative way\n",
        "# df.Age.var()\n"
      ]
    },
    {
      "cell_type": "code",
      "execution_count": null,
      "id": "3d44705b-69ba-45d2-b928-929eb32eea7d",
      "metadata": {
        "colab": {
          "base_uri": "https://localhost:8080/"
        },
        "id": "3d44705b-69ba-45d2-b928-929eb32eea7d",
        "outputId": "c4fef411-ab33-41d4-b6f3-84081d72cc4a"
      },
      "outputs": [],
      "source": [
        "# Calculate standard deviation of 'Age'\n",
        "print(df[\"Age\"].std())\n",
        "\n",
        "# Alternative way\n",
        "df.Age.std()\n"
      ]
    },
    {
      "cell_type": "code",
      "execution_count": null,
      "id": "ae8fa36c-ce03-4667-9437-ecbb56e7dd11",
      "metadata": {
        "colab": {
          "base_uri": "https://localhost:8080/"
        },
        "id": "ae8fa36c-ce03-4667-9437-ecbb56e7dd11",
        "outputId": "5e8e020d-2b2a-412b-eaa2-86a7ce9fe52c"
      },
      "outputs": [],
      "source": [
        "# Generate descriptive statistics for the 'Age' column\n",
        "age_description = df[\"Age\"].describe(percentiles = [0.2])\n",
        "\n",
        "# Display the statistics\n",
        "print(\"Descriptive Statistics for 'Age':\")\n",
        "print(age_description)\n"
      ]
    },
    {
      "cell_type": "code",
      "execution_count": null,
      "id": "f83aa4c9-f0f0-454f-b924-fbf72e2ffc66",
      "metadata": {
        "colab": {
          "base_uri": "https://localhost:8080/",
          "height": 496
        },
        "id": "f83aa4c9-f0f0-454f-b924-fbf72e2ffc66",
        "outputId": "545a15e8-ad9a-405b-ae93-7d1f2da3b52d"
      },
      "outputs": [],
      "source": [
        "import matplotlib.pyplot as plt\n",
        "import seaborn as sns\n",
        "\n",
        "# Histogram with multiple options\n",
        "plt.figure(figsize=(12, 5))\n",
        "\n",
        "plt.subplot(1, 2, 1)\n",
        "sns.histplot(df, x=\"Age\", bins=20, kde=True, element=\"step\", multiple=\"stack\", fill=False)\n",
        "\n",
        "# Formatting\n",
        "plt.title(\"Age Distribution \", fontsize=14)\n",
        "plt.xlabel(\"Age\")\n",
        "plt.ylabel(\"Count\")\n",
        "plt.xticks(rotation=45)\n",
        "\n",
        "# Histogram with multiple options\n",
        "plt.subplot(1, 2, 2)\n",
        "sns.histplot(df, x=\"Age\", hue=\"Sex\", bins=20, kde=True, element=\"step\", multiple=\"stack\", fill=True)\n",
        "\n",
        "# Formatting\n",
        "plt.title(\"Age Distribution by Sex\", fontsize=14)\n",
        "plt.xlabel(\"Age\")\n",
        "plt.ylabel(\"Count\")\n",
        "plt.xticks(rotation=45)\n",
        "plt.show()\n",
        "\n",
        "plt.show()\n"
      ]
    },
    {
      "cell_type": "code",
      "execution_count": null,
      "id": "e576651c-6880-4990-a253-136decdd1025",
      "metadata": {
        "colab": {
          "base_uri": "https://localhost:8080/",
          "height": 616
        },
        "id": "e576651c-6880-4990-a253-136decdd1025",
        "outputId": "7d6df23d-6d04-4cc9-eda6-9417561df267"
      },
      "outputs": [],
      "source": [
        "import matplotlib.pyplot as plt\n",
        "import seaborn as sns\n",
        "\n",
        "# Create a figure with two subplots (1 row, 2 columns)\n",
        "fig, axes = plt.subplots(1, 2, figsize=(12, 5))\n",
        "\n",
        "# 1 KDE Plot for 'Age'\n",
        "sns.kdeplot(df[\"Age\"], color=\"green\", fill=True, ax=axes[0])\n",
        "axes[0].set_title(\"KDE of the Variable 'Age'\", fontsize=14)\n",
        "axes[0].set_xlabel(\"Age\")\n",
        "axes[0].set_ylabel(\"Density\")\n",
        "axes[0].tick_params(axis='x', rotation=45)\n",
        "\n",
        "# 2 Boxplot for 'Age'\n",
        "sns.boxplot(y=df[\"Age\"], palette=\"Set2\", ax=axes[1])\n",
        "axes[1].set_title('Boxplot of the Numerical Variable \"Age\"', fontsize=14)\n",
        "axes[1].set_ylabel(\"Age\")\n",
        "\n",
        "# Adjust layout and display the plots\n",
        "plt.tight_layout()\n",
        "plt.show()\n"
      ]
    },
    {
      "cell_type": "markdown",
      "id": "793b928d-a089-4cbe-91af-29180f5fbbe8",
      "metadata": {
        "id": "793b928d-a089-4cbe-91af-29180f5fbbe8"
      },
      "source": [
        "Detecting Outliers with a Boxplot"
      ]
    },
    {
      "cell_type": "markdown",
      "id": "0b1c461e-4748-42d8-8388-db4844d4ab20",
      "metadata": {
        "id": "0b1c461e-4748-42d8-8388-db4844d4ab20"
      },
      "source": [
        "Detecting Outliers with the IQR (Interquartile Range) Method"
      ]
    },
    {
      "cell_type": "code",
      "execution_count": null,
      "id": "81483f34-e191-4162-9521-59804a22cdcd",
      "metadata": {
        "colab": {
          "base_uri": "https://localhost:8080/"
        },
        "id": "81483f34-e191-4162-9521-59804a22cdcd",
        "outputId": "b5690dfd-ff43-4bbf-9e74-d27b85dabe8a"
      },
      "outputs": [],
      "source": [
        "import numpy as np\n",
        "\n",
        "# Calculate the quartiles\n",
        "Q1 = df[\"Age\"].quantile(0.25)  # 1st quartile (25%)\n",
        "Q3 = df[\"Age\"].quantile(0.75)  # 3rd quartile (75%)\n",
        "\n",
        "# Calculate the IQR\n",
        "IQR = Q3 - Q1\n",
        "\n",
        "# Define the lower and upper bounds\n",
        "lower_bound_age = Q1 - 1.5 * IQR\n",
        "upper_bound_age = Q3 + 1.5 * IQR\n",
        "\n",
        "print(f\"Lower bound: {lower_bound_age}\")\n",
        "print(f\"Upper bound: {upper_bound_age}\")\n",
        "\n",
        "# Identify outliers on the variable \"Age\"\n",
        "outliers_age = df[(df[\"Age\"] < lower_bound_age) | (df[\"Age\"] > upper_bound_age)]\n",
        "print('Detected Outliers on the \"Age\" avriable:')\n",
        "print(outliers_age)"
      ]
    },
    {
      "cell_type": "markdown",
      "id": "074dc64a-389a-4a9b-8edd-ad9b7891240c",
      "metadata": {
        "id": "074dc64a-389a-4a9b-8edd-ad9b7891240c"
      },
      "source": [
        " Manage outliers of the variable \"Age\" by removing them from the dataset"
      ]
    },
    {
      "cell_type": "code",
      "execution_count": null,
      "id": "56e97973-4eec-42a7-a29a-d04ad3fef2c0",
      "metadata": {
        "colab": {
          "base_uri": "https://localhost:8080/"
        },
        "id": "56e97973-4eec-42a7-a29a-d04ad3fef2c0",
        "outputId": "2c9b6124-e722-4a4b-c9d6-7816118f84ff"
      },
      "outputs": [],
      "source": [
        "# Option: Remove outliers of the variable \"Age\" from the dataset\n",
        "df_cleaned_remove_age = df[(df[\"Age\"] >= lower_bound_age) & (df[\"Age\"] <= upper_bound_age)]\n",
        "print(df_cleaned_remove_age.head())"
      ]
    },
    {
      "cell_type": "code",
      "execution_count": null,
      "id": "93e3c0d0-0148-4554-bb9e-9a954de7b52a",
      "metadata": {
        "colab": {
          "base_uri": "https://localhost:8080/",
          "height": 616
        },
        "id": "93e3c0d0-0148-4554-bb9e-9a954de7b52a",
        "outputId": "696764c5-c259-4f23-8cf4-dd52b51b8f85"
      },
      "outputs": [],
      "source": [
        "import matplotlib.pyplot as plt\n",
        "import seaborn as sns\n",
        "\n",
        "# Create a figure with two subplots (1 row, 2 columns)\n",
        "fig, axes = plt.subplots(1, 2, figsize=(12, 5))\n",
        "\n",
        "# 1 KDE Plot for 'Age'\n",
        "sns.kdeplot(df_cleaned_remove_age[\"Age\"], color=\"green\", fill=True, ax=axes[0])\n",
        "axes[0].set_title(\"KDE of the Variable 'Age'\", fontsize=14)\n",
        "axes[0].set_xlabel(\"Age\")\n",
        "axes[0].set_ylabel(\"Density\")\n",
        "axes[0].tick_params(axis='x', rotation=45)\n",
        "\n",
        "# 2 Boxplot for 'Age'\n",
        "sns.boxplot(y=df_cleaned_remove_age[\"Age\"], palette=\"Set2\", ax=axes[1])\n",
        "axes[1].set_title('Boxplot of the Numerical Variable \"Age\"', fontsize=14)\n",
        "axes[1].set_ylabel(\"Age\")\n",
        "\n",
        "# Adjust layout and display the plots\n",
        "plt.tight_layout()\n",
        "plt.show()\n"
      ]
    },
    {
      "cell_type": "markdown",
      "id": "6b4bad46-6dc2-4fd9-8154-dc8ec2b667ad",
      "metadata": {
        "id": "6b4bad46-6dc2-4fd9-8154-dc8ec2b667ad"
      },
      "source": [
        " Manage outliers of the variable \"Age\" by remplace them by the mean from the dataset"
      ]
    },
    {
      "cell_type": "code",
      "execution_count": null,
      "id": "95cd7daa-fbb8-4b62-82a1-c743b777ba9c",
      "metadata": {
        "colab": {
          "base_uri": "https://localhost:8080/"
        },
        "id": "95cd7daa-fbb8-4b62-82a1-c743b777ba9c",
        "outputId": "2b02e57a-e5c9-467f-bf5c-91613ee6a5dd"
      },
      "outputs": [],
      "source": [
        "import numpy as np\n",
        "\n",
        "# Calculate the mean of 'Age' (excluding outliers)\n",
        "mean_age = df[(df[\"Age\"] >= lower_bound_age) & (df[\"Age\"] <= upper_bound_age)][\"Age\"].mean()\n",
        "\n",
        "# Replace outlier values with the mean\n",
        "df_filled_age = df.copy()  # Create a copy of the original DataFrame\n",
        "df_filled_age.loc[(df_filled_age[\"Age\"] < lower_bound_age) | (df_filled_age[\"Age\"] > upper_bound_age), \"Age\"] = mean_age\n",
        "\n",
        "# Display the modified DataFrame\n",
        "print(\"Dataset with Outliers Replaced by Mean:\")\n",
        "print(df_filled_age.head())\n"
      ]
    },
    {
      "cell_type": "code",
      "execution_count": null,
      "id": "864b9e72-7eb8-4468-b628-3010001d41f6",
      "metadata": {
        "colab": {
          "base_uri": "https://localhost:8080/",
          "height": 616
        },
        "id": "864b9e72-7eb8-4468-b628-3010001d41f6",
        "outputId": "a01c147f-195f-4721-ac0d-6669ecf73c8a"
      },
      "outputs": [],
      "source": [
        "import matplotlib.pyplot as plt\n",
        "import seaborn as sns\n",
        "\n",
        "# Create a figure with two subplots (1 row, 2 columns)\n",
        "fig, axes = plt.subplots(1, 2, figsize=(12, 5))\n",
        "\n",
        "# 1 KDE Plot for 'Age'\n",
        "sns.kdeplot(df_filled_age[\"Age\"], color=\"green\", fill=True, ax=axes[0])\n",
        "axes[0].set_title(\"KDE of the Variable 'Age'\", fontsize=14)\n",
        "axes[0].set_xlabel(\"Age\")\n",
        "axes[0].set_ylabel(\"Density\")\n",
        "axes[0].tick_params(axis='x', rotation=45)\n",
        "\n",
        "# 2 Boxplot for 'Age'\n",
        "sns.boxplot(y=df_filled_age[\"Age\"], palette=\"Set2\", ax=axes[1])\n",
        "axes[1].set_title('Boxplot of the Numerical Variable \"Age\"', fontsize=14)\n",
        "axes[1].set_ylabel(\"Age\")\n",
        "\n",
        "# Adjust layout and display the plots\n",
        "plt.tight_layout()\n",
        "plt.show()\n"
      ]
    },
    {
      "cell_type": "markdown",
      "id": "d03a39f5-b6aa-4ce8-a599-54dcc2359441",
      "metadata": {
        "id": "d03a39f5-b6aa-4ce8-a599-54dcc2359441"
      },
      "source": [
        "###  Conclusion on Outlier Treatment in \"Age\" Variable  \n",
        "\n",
        "After analyzing and handling outliers in the \"Age\" variable using two different approaches, we observed the following:  \n",
        "\n",
        "1. Eliminating Outliers Using the Interquartile Range (IQR) Method.\n",
        "   - This method completely removed all outlier values** that fell outside the calculated IQR boundaries.\n",
        "   - While this ensures that extreme values do not distort the analysis, it also results in data loss by reducing the number of observations.\n",
        "\n",
        "2. Replacing Outliers with the Mean.  \n",
        "   - Instead of removing outliers, this method replaced them with the mean of non-outlier values.\n",
        "   - This approach preserved all observations, ensuring no data loss.\n",
        "   - However, some of the extreme values were still present in the dataset but were transformed to a less extreme value.\n",
        "\n",
        " Key Takeaways  \n",
        "- The IQR method is effective in completely eliminating outliers, which is useful when outliers represent errors or extreme anomalies.  \n",
        "- Replacing outliers with the mean retains all data points, which can be beneficial when dealing with small datasets or when outliers hold some meaningful information.  \n",
        "- The choice of method depends on the objective**:  \n",
        "  - If preserving all data is crucial → Use replacement methods (mean, median, etc.).  \n",
        "  - If ensuring a clean dataset without extreme influence is a priority → Use elimination methods (IQR, Z-score, etc.).  \n"
      ]
    },
    {
      "cell_type": "markdown",
      "id": "ee475f39-7ebc-4722-b86a-276f20d9c51e",
      "metadata": {
        "id": "ee475f39-7ebc-4722-b86a-276f20d9c51e"
      },
      "source": [
        "### 4.2.2. Summarize categorical variables (Exploring Single Variables) (Categorical variable choice = \"Survived\")\n"
      ]
    },
    {
      "cell_type": "code",
      "execution_count": null,
      "id": "9b71ec39-822c-48be-866a-bf4885188c50",
      "metadata": {
        "colab": {
          "base_uri": "https://localhost:8080/",
          "height": 178
        },
        "id": "9b71ec39-822c-48be-866a-bf4885188c50",
        "outputId": "a83b0052-6864-45c8-f155-ad421c303346"
      },
      "outputs": [],
      "source": [
        "# To observe the n first rows of a column \"Survived\"\n",
        "\n",
        "df[\"Survived\"][0:3]"
      ]
    },
    {
      "cell_type": "code",
      "execution_count": null,
      "id": "12e869c5-b1c8-4fb8-8c8c-af2e3221fb12",
      "metadata": {
        "colab": {
          "base_uri": "https://localhost:8080/"
        },
        "id": "12e869c5-b1c8-4fb8-8c8c-af2e3221fb12",
        "outputId": "ffa07bd5-558e-4bd1-90cd-71a1dba8f993"
      },
      "outputs": [],
      "source": [
        "# This is how to access the 5 first rowws of a catherorical column \"Survived\"\n",
        "\n",
        "print (df[\"Survived\"].head())\n",
        "# dfn.Survived                        #  We can also write it like this\n",
        "# dfn['Survived']                     # Here is another way to access a column"
      ]
    },
    {
      "cell_type": "code",
      "execution_count": null,
      "id": "ac5cb340-34f1-4c51-b393-6bd5dbfca518",
      "metadata": {
        "colab": {
          "base_uri": "https://localhost:8080/"
        },
        "id": "ac5cb340-34f1-4c51-b393-6bd5dbfca518",
        "outputId": "486d1600-c9d0-437c-a12a-5df3effda8b9"
      },
      "outputs": [],
      "source": [
        "# Count the number of occurrences for each category\n",
        "print(df[\"Survived\"].value_counts())\n"
      ]
    },
    {
      "cell_type": "code",
      "execution_count": null,
      "id": "d4d0098d-631f-4743-a0e4-c0911a6f28f0",
      "metadata": {
        "colab": {
          "base_uri": "https://localhost:8080/"
        },
        "id": "d4d0098d-631f-4743-a0e4-c0911a6f28f0",
        "outputId": "d840212a-a795-4c56-f16b-f84d1c7d886b"
      },
      "outputs": [],
      "source": [
        "# Calculate the proportion of each category\n",
        "print(df[\"Survived\"].value_counts(normalize=True))  # Gives percentages\n"
      ]
    },
    {
      "cell_type": "code",
      "execution_count": null,
      "id": "33ca6909-5824-4933-b909-26508de11d95",
      "metadata": {
        "colab": {
          "base_uri": "https://localhost:8080/"
        },
        "id": "33ca6909-5824-4933-b909-26508de11d95",
        "outputId": "ac1bb33d-d9ab-4256-8484-4fa4fd6a69b4"
      },
      "outputs": [],
      "source": [
        "# Calculate the mean (only meaningful if 0/1 coding is used)\n",
        "print(df[\"Survived\"].mean())  # Survival rate\n"
      ]
    },
    {
      "cell_type": "code",
      "execution_count": null,
      "id": "0f241363-21e9-4afe-bae4-0c4e3e7bb18e",
      "metadata": {
        "colab": {
          "base_uri": "https://localhost:8080/"
        },
        "id": "0f241363-21e9-4afe-bae4-0c4e3e7bb18e",
        "outputId": "9733e1ea-95fa-42cc-e900-c51c830d9437"
      },
      "outputs": [],
      "source": [
        "# Calculate the mode (most frequent value)\n",
        "print(df[\"Survived\"].mode())\n"
      ]
    },
    {
      "cell_type": "code",
      "execution_count": null,
      "id": "955c4f87-ec39-423b-bbdf-7a7706663e3d",
      "metadata": {
        "colab": {
          "base_uri": "https://localhost:8080/"
        },
        "id": "955c4f87-ec39-423b-bbdf-7a7706663e3d",
        "outputId": "6516476a-f4e5-4a30-a61a-097458878296"
      },
      "outputs": [],
      "source": [
        "# Standard deviation (meaningful if binary 0/1)\n",
        "print(df[\"Survived\"].std())\n"
      ]
    },
    {
      "cell_type": "code",
      "execution_count": null,
      "id": "0c0f5379-12d1-40d9-9137-6bcd8f07c250",
      "metadata": {
        "colab": {
          "base_uri": "https://localhost:8080/",
          "height": 652
        },
        "id": "0c0f5379-12d1-40d9-9137-6bcd8f07c250",
        "outputId": "a4ad5611-2996-4a1d-b44d-39854ddce0ef"
      },
      "outputs": [],
      "source": [
        "import matplotlib.pyplot as plt\n",
        "import seaborn as sns\n",
        "import pandas as pd\n",
        "\n",
        "# Create a figure with two subplots\n",
        "fig, axes = plt.subplots(1, 2, figsize=(12, 5))\n",
        "\n",
        "# 1 Count Plot (Absolute Count of Survived vs Not Survived)\n",
        "sns.countplot(data=df, x=\"Survived\", palette=\"coolwarm\", ax=axes[0])\n",
        "axes[0].set_title(\"Survival Count\")\n",
        "axes[0].set_xlabel(\"Survived (0 = No, 1 = Yes)\")\n",
        "axes[0].set_ylabel(\"Count\")\n",
        "axes[0].set_xticklabels([\"Not Survived\", \"Survived\"])\n",
        "\n",
        "# 2 Percentage Plot (Proportion of Survived vs Not Survived)\n",
        "df[\"Survived\"].value_counts(normalize=True).plot(\n",
        "    kind=\"bar\", color=[\"red\", \"green\"], ax=axes[1]\n",
        ")\n",
        "axes[1].set_title(\"Survival Percentage\")\n",
        "axes[1].set_xlabel(\"Survived (0 = No, 1 = Yes)\")\n",
        "axes[1].set_ylabel(\"Percentage\")\n",
        "axes[1].set_xticklabels([\"Not Survived\", \"Survived\"])\n",
        "axes[1].set_ylim(0, 1)  # Ensure y-axis is scaled for percentage\n",
        "\n",
        "# Show the plots\n",
        "plt.tight_layout()\n",
        "plt.show()\n"
      ]
    },
    {
      "cell_type": "markdown",
      "id": "2a435d44-914f-4e34-b038-8d490a295489",
      "metadata": {
        "id": "2a435d44-914f-4e34-b038-8d490a295489"
      },
      "source": [
        "Interpretation:  \n",
        "- A total of 424 passengers (60%) did not survive, while 288 passengers (40%) survived.  \n",
        "- The majority of passengers perished, with a significant survival gap.  \n",
        "- The survival rate being less than half (40%) suggests that conditions on the Titanic were unfavorable for most passengers.  \n",
        "- The large difference between the number of survivors and non-survivors indicates potential disparities in survival chances, possibly influenced by factors like class, gender, or age.  \n",
        "- Further investigation into demographics, ticket class, and other variables may provide deeper insights into who had a higher probability of survival.  \n"
      ]
    },
    {
      "cell_type": "code",
      "execution_count": null,
      "id": "63c41ee6-dde3-4d1a-8b93-46c14b9b4220",
      "metadata": {
        "colab": {
          "base_uri": "https://localhost:8080/",
          "height": 521
        },
        "id": "63c41ee6-dde3-4d1a-8b93-46c14b9b4220",
        "outputId": "939f2bcb-43d0-45f7-a72d-e84cfc4f1326"
      },
      "outputs": [],
      "source": [
        "# Shows the survival rate as a percentage of total passengers.\n",
        "\n",
        "df[\"Survived\"].value_counts().plot(\n",
        "    kind=\"pie\", autopct=\"%1.1f%%\", colors=[\"yellow\", \"green\"], figsize=(6, 6),\n",
        "    labels=[\"Not Survived\", \"Survived\"], explode=(0, 0.1), shadow=True\n",
        ")\n",
        "plt.title(\"Survival Rate\")\n",
        "plt.ylabel(\"\")\n",
        "plt.show()\n"
      ]
    },
    {
      "cell_type": "markdown",
      "id": "820acdd6-726a-446c-bb68-bc65677765bc",
      "metadata": {
        "id": "820acdd6-726a-446c-bb68-bc65677765bc"
      },
      "source": [
        "### 4.2.2. Bivariate Analysis (Comparing Two Variables)"
      ]
    },
    {
      "cell_type": "markdown",
      "id": "d705e6e4-e1d3-4ced-abce-d7e103b599b4",
      "metadata": {
        "id": "d705e6e4-e1d3-4ced-abce-d7e103b599b4"
      },
      "source": [
        "### 4.2.2.1. Number of Tickets Sold by Class\n"
      ]
    },
    {
      "cell_type": "markdown",
      "id": "093f4182-467a-4e3c-8fb0-c020e2a8aa79",
      "metadata": {
        "id": "093f4182-467a-4e3c-8fb0-c020e2a8aa79"
      },
      "source": [
        "\n",
        "The goal is to analyze how many tickets were sold across different passenger classes (\"Pclass\"). By grouping the dataset by ticket class, we can determine:  \n",
        "- The total number of tickets sold per class.  \n",
        "- The percentage distribution of ticket sales among classes.  \n",
        "- The differences in ticket sales between first, second, and third-class passengers.  \n",
        "\n",
        "Understanding ticket distribution can provide insights into \"passenger demographics, socio-economic status, and survival probabilities\" in later analyses.  "
      ]
    },
    {
      "cell_type": "code",
      "execution_count": null,
      "id": "1246dc23-eab3-41fc-a95c-5f24fe0c8d47",
      "metadata": {
        "colab": {
          "base_uri": "https://localhost:8080/",
          "height": 175
        },
        "id": "1246dc23-eab3-41fc-a95c-5f24fe0c8d47",
        "outputId": "b060ffcf-1622-405c-9be2-94ee49917745"
      },
      "outputs": [],
      "source": [
        "# Apply the \"groupby\" function to group the DataFrame by class.\n",
        "# Missing values are represented as \"NaN\".\n",
        "\n",
        "pclassAllColumns_df = df.groupby(\"Pclass\").count()\n",
        "pclassAllColumns_df\n"
      ]
    },
    {
      "cell_type": "code",
      "execution_count": null,
      "id": "464d6526-72be-4ac4-a8b5-cf13a7ca8153",
      "metadata": {
        "colab": {
          "base_uri": "https://localhost:8080/",
          "height": 210
        },
        "id": "464d6526-72be-4ac4-a8b5-cf13a7ca8153",
        "outputId": "cd91eea9-7df0-495b-c7e0-0f7736816ccd"
      },
      "outputs": [],
      "source": [
        "# We select a single column \"PassengerId\" among all columns\n",
        "pclass_passenger_df = df.groupby(\"Pclass\")[\"PassengerId\"].count()\n",
        "pclass_passenger_df\n"
      ]
    },
    {
      "cell_type": "code",
      "execution_count": null,
      "id": "c1fe7baa-ed1d-4aea-aa12-04470636eb08",
      "metadata": {
        "colab": {
          "base_uri": "https://localhost:8080/",
          "height": 175
        },
        "id": "c1fe7baa-ed1d-4aea-aa12-04470636eb08",
        "outputId": "1aafa53d-6977-4d1d-96f9-a459db2e44c4"
      },
      "outputs": [],
      "source": [
        "# Replace the column label \"PassengerId\" with \"Tickets Sold\" to count the number of tickets sold.\n",
        "# We slightly adjust the column names to differentiate between the categories.\n",
        "# \"Pclass\" and \"Tickets Sold\"\n",
        "\n",
        "# Tickets sold per class\n",
        "tickets_sold_df = df.groupby(\"Pclass\")[\"PassengerId\"].count().to_frame(name=\"Tickets Sold\")\n",
        "tickets_sold_df\n"
      ]
    },
    {
      "cell_type": "code",
      "execution_count": null,
      "id": "23315bf2-46bb-47f0-9056-a9374921288e",
      "metadata": {
        "colab": {
          "base_uri": "https://localhost:8080/",
          "height": 507
        },
        "id": "23315bf2-46bb-47f0-9056-a9374921288e",
        "outputId": "eea8d072-c689-4e55-84c1-b32c8de4e120"
      },
      "outputs": [],
      "source": [
        "import matplotlib.pyplot as plt\n",
        "import pandas as pd\n",
        "\n",
        "# Group data by \"Pclass\" and count tickets sold\n",
        "tickets_sold_df = df.groupby(\"Pclass\")[\"PassengerId\"].count().to_frame(name=\"Tickets Sold\")\n",
        "\n",
        "# Compute frequency distribution (percentage)\n",
        "tickets_sold_percentage = (tickets_sold_df / tickets_sold_df.sum()) * 100\n",
        "\n",
        "# Create subplots for count and frequency\n",
        "fig, axes = plt.subplots(1, 2, figsize=(12, 5))\n",
        "\n",
        "# Bar chart for count of tickets sold per class\n",
        "tickets_sold_df.plot(kind=\"bar\", legend=False, color=[\"green\", \"blue\", \"red\"], width=0.3, ax=axes[0])\n",
        "axes[0].set_title(\"Number of Tickets Sold per Class\")\n",
        "axes[0].set_xlabel(\"Pclass\")\n",
        "axes[0].set_ylabel(\"Count\")\n",
        "axes[0].set_xticklabels(tickets_sold_df.index, rotation=0)\n",
        "\n",
        "# Bar chart for percentage of tickets sold per class\n",
        "tickets_sold_percentage.plot(kind=\"bar\", legend=False, color=[\"blue\", \"green\", \"red\"], width=0.3, ax=axes[1])\n",
        "axes[1].set_title(\"Percentage of Tickets Sold per Class\")\n",
        "axes[1].set_xlabel(\"Pclass\")\n",
        "axes[1].set_ylabel(\"Percentage (%)\")\n",
        "axes[1].set_xticklabels(tickets_sold_percentage.index, rotation=0)\n",
        "\n",
        "# Adjust layout for better visibility\n",
        "plt.tight_layout()\n",
        "plt.show()\n"
      ]
    },
    {
      "cell_type": "markdown",
      "id": "ecdc2b31-0a0e-4072-a8a5-25dda0579e13",
      "metadata": {
        "id": "ecdc2b31-0a0e-4072-a8a5-25dda0579e13"
      },
      "source": [
        "Interpretation of Ticket Sales by Class :\n",
        "\n",
        "1 Ticket Count Analysis\n",
        "- First-class: 184 tickets sold  \n",
        "- Second-class: 173 tickets sold  \n",
        "- Third-class: 355 tickets sold  \n",
        "\n",
        "The highest number of tickets sold was in \"third class (355 passengers)\", nearly \"double the first-class tickets (184)\". Second-class had a slightly lower count than first-class.\n",
        "\n",
        "2. Percentage Distribution\n",
        "To understand the proportion of ticket sales per class:  \n",
        "\n",
        "- First-class: (184 / (184 + 173 + 355)) × 100 ≈ 24.3%\n",
        "- Second-class: (173 / (184 + 173 + 355)) × 100 ≈ 22.9%\n",
        "- Third-class: (355 / (184 + 173 + 355)) × 100 ≈ 52.8%  \n",
        "\n",
        "3. Insights from the Data\n",
        "- More than **half of the passengers (52.8%) traveled in third class, indicating it was the most affordable and accessible option.  \n",
        "- First and second-class passengers combined (47.2%) still made up less than third-class alone, but their presence suggests a considerable number of wealthier travelers on board.  \n",
        "- The relatively similar number of tickets in first and second class (24.3% vs. 22.9%) suggests a balanced distribution between upper-middle and upper-class passengers.  \n"
      ]
    },
    {
      "cell_type": "markdown",
      "id": "ed22ee14-97da-43aa-acb8-b6684e9a0d45",
      "metadata": {
        "id": "ed22ee14-97da-43aa-acb8-b6684e9a0d45"
      },
      "source": [
        "### 4.2.2.2. Number of Survivors by Class"
      ]
    },
    {
      "cell_type": "markdown",
      "id": "55d3cedb-8206-48bf-ba99-c556183551d5",
      "metadata": {
        "id": "55d3cedb-8206-48bf-ba99-c556183551d5"
      },
      "source": [
        "\n",
        "The objective of this analysis is to examine the distribution of survivors across different passenger classes. By comparing the number of survivors and total passengers in each class, we aim to:  \n",
        "\n",
        "- Determine how survival chances varied based on socio-economic status.  \n",
        "- Calculate the survival rate (%) for each class.  \n",
        "- Identify disparities in survival likelihood, particularly between first, second, and third-class passengers.  \n",
        "- Provide insights into how class influenced access to lifeboats and safety measures during the Titanic disaster.  \n"
      ]
    },
    {
      "cell_type": "code",
      "execution_count": null,
      "id": "4eeb7488-e5b9-4a1e-8a2a-d6762e22a19f",
      "metadata": {
        "colab": {
          "base_uri": "https://localhost:8080/"
        },
        "id": "4eeb7488-e5b9-4a1e-8a2a-d6762e22a19f",
        "outputId": "d6cb4178-f194-4707-c68d-747393c3348f"
      },
      "outputs": [],
      "source": [
        "import pandas as pd\n",
        "\n",
        "# Group by \"Pclass\" and calculate the number of survivors and total passengers\n",
        "df_count_survived_class = df.groupby(\"Pclass\").agg(\n",
        "    Survived_count=(\"Survived\", lambda x: (x == 1).sum()),  # Count survivors\n",
        "    # Alternative: Survived_count=(\"Survived\", \"sum\")  # Works without lambda\n",
        "    Total_Passengers=(\"PassengerId\", \"count\")  # Count total passengers per class\n",
        ").reset_index()\n",
        "\n",
        "# Calculate survival rate per class\n",
        "df_count_survived_class[\"Survival_Rate (%)\"] = (df_count_survived_class[\"Survived_count\"] / df_count_survived_class[\"Total_Passengers\"]) * 100\n",
        "\n",
        "# Display the DataFrame\n",
        "print(df_count_survived_class)\n"
      ]
    },
    {
      "cell_type": "code",
      "execution_count": null,
      "id": "538f2840-9aaa-4534-93ad-df8057513b30",
      "metadata": {
        "colab": {
          "base_uri": "https://localhost:8080/"
        },
        "id": "538f2840-9aaa-4534-93ad-df8057513b30",
        "outputId": "159f6e2b-37df-4b09-8cb6-7858adc5e77a"
      },
      "outputs": [],
      "source": [
        "import pandas as pd\n",
        "\n",
        "# Calculate the survival frequency (mean survival rate) for each class\n",
        "df_survived_class_freq = df.groupby(\"Pclass\")[[\"Survived\"]].mean().reset_index()\n",
        "\n",
        "# Rename the column for clarity\n",
        "df_survived_class_freq.rename(columns={\"Survived\": \"Survival_Rate\"}, inplace=True)\n",
        "\n",
        "# Convert survival rate to percentage for better interpretation\n",
        "df_survived_class_freq[\"Survival_Rate (%)\"] = df_survived_class_freq[\"Survival_Rate\"] * 100\n",
        "\n",
        "# Display the DataFrame\n",
        "print(df_survived_class_freq)\n"
      ]
    },
    {
      "cell_type": "code",
      "execution_count": null,
      "id": "0bb02aa9-a5b3-45fc-8c81-818cbdc6922c",
      "metadata": {
        "colab": {
          "base_uri": "https://localhost:8080/",
          "height": 607
        },
        "id": "0bb02aa9-a5b3-45fc-8c81-818cbdc6922c",
        "outputId": "1d5212b6-a2ea-4e4e-8910-dcf0de3735b2"
      },
      "outputs": [],
      "source": [
        "import matplotlib.pyplot as plt\n",
        "\n",
        "# Create subplots for count and frequency\n",
        "fig, axes = plt.subplots(1, 2, figsize=(12, 6))\n",
        "\n",
        "# Bar chart for the count of survivors per class\n",
        "df_count_survived_class.plot(kind=\"bar\", x=\"Pclass\", y=\"Survived_count\", legend=False, color=[\"green\"], ax=axes[0])\n",
        "axes[0].set_title('Number of Survivors per \"Class\"')\n",
        "axes[0].set_xlabel(\"Pclass\")\n",
        "axes[0].set_ylabel(\"Count\")\n",
        "axes[0].set_xticklabels(df_count_survived_class[\"Pclass\"], rotation=0)\n",
        "\n",
        "\n",
        "# Bar chart for the survival rate per class\n",
        "df_survived_class_freq.plot(kind=\"bar\", x=\"Pclass\", y=\"Survival_Rate (%)\", legend=False, color=[\"blue\"], ax=axes[1])\n",
        "axes[1].set_title('Percentage of Survivors per \"Class\"')\n",
        "axes[1].set_xlabel(\"Pclass\")\n",
        "axes[1].set_ylabel(\"Percentage (%)\")\n",
        "axes[1].set_xticklabels(df_survived_class_freq[\"Pclass\"], rotation=0)\n",
        "\n",
        "\n",
        "# Adjust layout for better visibility\n",
        "plt.tight_layout()\n",
        "plt.show()\n"
      ]
    },
    {
      "cell_type": "code",
      "execution_count": null,
      "id": "e43dc499-5d20-46ad-82c8-72a31b151f9b",
      "metadata": {
        "colab": {
          "base_uri": "https://localhost:8080/",
          "height": 472
        },
        "id": "e43dc499-5d20-46ad-82c8-72a31b151f9b",
        "outputId": "3d562a83-3269-49fa-b4fd-fff61c1e13c9"
      },
      "outputs": [],
      "source": [
        "# Plot del grafico in modo gumelatto\n",
        "plt.bar(df_count_survived_class[\"Pclass\"], df_count_survived_class[\"Total_Passengers\"], label=\"Total Passengers\")\n",
        "plt.bar(df_count_survived_class[\"Pclass\"], df_count_survived_class[\"Survived_count\"], label=\"survived\", color=\"green\")\n",
        "plt.xlabel(\"Pclass\")\n",
        "plt.ylabel(\"Counts\")\n",
        "plt.title(\"Counts of Survived Passengers and Total Passengers by Pclass\")\n",
        "plt.legend()\n",
        "plt.show()"
      ]
    },
    {
      "cell_type": "markdown",
      "id": "42ae748e-0157-492b-b5f8-f87bd34aa9bd",
      "metadata": {
        "id": "42ae748e-0157-492b-b5f8-f87bd34aa9bd"
      },
      "source": [
        "Interpretation:\n",
        "- In first class, 120 out of 184 passengers survived, resulting in a survival rate of 65.22%. This indicates that first-class passengers had the highest chance of survival.  \n",
        "- In second class, 83 out of 173 passengers survived, giving a survival rate of 47.98%. This shows a significant drop in survival probability compared to first class.  \n",
        "- In third class, only 85 out of 355 passengers survived, leading to a survival rate of 23.94%. This highlights that third-class passengers had the lowest chances of survival.  \n",
        "- The survival rate decreases as the class number increases, suggesting that higher-class passengers had better access to lifeboats and safety measures.  \n",
        "- The difference in survival rates between first and third class is significant, indicating that socio-economic status played a crucial role in survival chances.  \n",
        "\n"
      ]
    },
    {
      "cell_type": "code",
      "execution_count": null,
      "id": "63d8071e-30e4-4cfd-bbae-7909653a53c5",
      "metadata": {
        "colab": {
          "base_uri": "https://localhost:8080/"
        },
        "id": "63d8071e-30e4-4cfd-bbae-7909653a53c5",
        "outputId": "8b6663f9-fb1b-4535-99b5-0154e0f275d5"
      },
      "outputs": [],
      "source": [
        "import pandas as pd\n",
        "\n",
        "# Count the number of non-survivors and the total number of passengers for each class\n",
        "\n",
        "df_count_no_survived_class = df.groupby(\"Pclass\").agg(                     # Group by passenger class\n",
        "    no_survived_count=(\"Survived\", lambda x: (x == 0).sum()),              # Count non-survivors (where Survived == 0)\n",
        "    Total_Passengers=(\"PassengerId\", \"count\")                              # Count total passengers per class\n",
        ").reset_index()                                                            # Reset index for better readability\n",
        "\n",
        "# Display the DataFrame\n",
        "print(df_count_no_survived_class)\n"
      ]
    },
    {
      "cell_type": "code",
      "execution_count": null,
      "id": "52adc827-3268-431c-95a1-1b6a6837a840",
      "metadata": {
        "colab": {
          "base_uri": "https://localhost:8080/",
          "height": 472
        },
        "id": "52adc827-3268-431c-95a1-1b6a6837a840",
        "outputId": "64d5f856-a31f-4baa-ea06-d0eccb5f3247"
      },
      "outputs": [],
      "source": [
        "# Plot of the graph: both on the same band.\n",
        "\n",
        "plt.bar(df_count_no_survived_class[\"Pclass\"], df_count_no_survived_class[\"Total_Passengers\"], label=\"Total Passengers\", color = \"blue\")\n",
        "# plt.bar(x1, y1, label1 =legend1, color = \"blue\", ecc..)\n",
        "plt.bar(df_count_no_survived_class[\"Pclass\"], df_count_no_survived_class[\"no_survived_count\"], label=\"not survived\", color=\"green\")\n",
        "# plt.bar(x2, y2, label2 =legend2, color = \"green\", ecc..)\n",
        "\n",
        "plt.xlabel(\"Pclass\")\n",
        "plt.ylabel(\"Counts\")\n",
        "plt.title(\"Counts of Not Survived Passengers and Total Passengers by Pclass\")\n",
        "plt.legend()\n",
        "plt.show()"
      ]
    },
    {
      "cell_type": "code",
      "execution_count": null,
      "id": "83a79d3a-30d2-4e48-9a05-528412a9488c",
      "metadata": {
        "colab": {
          "base_uri": "https://localhost:8080/",
          "height": 175
        },
        "id": "83a79d3a-30d2-4e48-9a05-528412a9488c",
        "outputId": "e833e192-5ff3-4715-ccae-8132662fdf06"
      },
      "outputs": [],
      "source": [
        "# OTHER METHOD.\n",
        "# Create a new column for non-surviving passengers.\n",
        "\n",
        "df[\"no_Survived\"]= (df[\"Survived\"]==0).astype(int)\n",
        "\n",
        "# Group by class and aggregate counts.\n",
        "df_count_no_surv_class_2 = df.groupby(\"Pclass\").agg(\n",
        "    no_surv_class = (\"no_Survived\", \"sum\"),\n",
        "    Total =(\"PassengerId\",\"count\")\n",
        ")\n",
        "df_count_no_surv_class_2"
      ]
    },
    {
      "cell_type": "code",
      "execution_count": null,
      "id": "f28e4a11-6158-4dce-99d6-80de14d96c04",
      "metadata": {
        "colab": {
          "base_uri": "https://localhost:8080/",
          "height": 490
        },
        "id": "f28e4a11-6158-4dce-99d6-80de14d96c04",
        "outputId": "bfbbf77f-dd1f-4eec-f302-455bcae39daf"
      },
      "outputs": [],
      "source": [
        "df_count_no_surv_class_2.plot(kind=\"bar\")\n",
        "plt.xticks (rotation=0)\n",
        "plt.ylabel(\"counts\")\n",
        "plt.title(\"Numbers of non survived\")\n"
      ]
    },
    {
      "cell_type": "markdown",
      "id": "f8365a2e-7788-45bb-b27b-c09e5f9a0903",
      "metadata": {
        "id": "f8365a2e-7788-45bb-b27b-c09e5f9a0903",
        "jp-MarkdownHeadingCollapsed": true
      },
      "source": [
        " Interpretation:  \n",
        "- In first class, 64 out of 184 passengers did not survive, meaning the non-survival rate was approximately 34.78%. This indicates that first-class passengers had the highest chance of survival compared to other classes.  \n",
        "- In second class, 90 out of 173 passengers did not survive, giving a non-survival rate of 52.02%. This shows that survival chances dropped significantly compared to first class.  \n",
        "- In third class, 270 out of 355 passengers did not survive, resulting in a non-survival rate of 76.06%. This highlights that third-class passengers had the highest fatality rate, suggesting that lower-class passengers had more difficulty accessing lifeboats and safety measures.  \n",
        "- The higher the class, the lower the percentage of non-survivors, indicating that social status played a crucial role in survival chances on the Titanic.  \n",
        "\n"
      ]
    },
    {
      "cell_type": "markdown",
      "id": "873a84bc-ad7e-4ba2-9bd8-52cd3ae56b32",
      "metadata": {
        "id": "873a84bc-ad7e-4ba2-9bd8-52cd3ae56b32"
      },
      "source": [
        "### 4.2.2.3. Number of Survivors by Gender"
      ]
    },
    {
      "cell_type": "code",
      "execution_count": null,
      "id": "55348389-800d-486c-8c44-bbbb6a2f104f",
      "metadata": {
        "colab": {
          "base_uri": "https://localhost:8080/"
        },
        "id": "55348389-800d-486c-8c44-bbbb6a2f104f",
        "outputId": "6bcfd81c-784c-43d0-bc52-f923682a0a70"
      },
      "outputs": [],
      "source": [
        "import pandas as pd\n",
        "\n",
        "# Group by 'Sex' and calculate survival count and rate\n",
        "df_survived_sex = df.groupby(\"Sex\").agg(\n",
        "    Survived_count=(\"Survived\", lambda x: (x == 1).sum()),  # Count of survivors\n",
        "    Total_Passengers=(\"Sex\", \"count\"),  # Count of total passengers per gender\n",
        "    Survival_Rate=(\"Survived\", \"mean\")  # Mean survival rate\n",
        ").reset_index()\n",
        "\n",
        "# Convert survival rate to percentage\n",
        "df_survived_sex[\"Survival_Rate (%)\"] = df_survived_sex[\"Survival_Rate\"] * 100\n",
        "\n",
        "# Display the DataFrame\n",
        "print(df_survived_sex)\n"
      ]
    },
    {
      "cell_type": "code",
      "execution_count": null,
      "id": "37493460-3ff6-4c8e-823f-96ffb7586f44",
      "metadata": {
        "colab": {
          "base_uri": "https://localhost:8080/",
          "height": 607
        },
        "id": "37493460-3ff6-4c8e-823f-96ffb7586f44",
        "outputId": "f2556d71-f9f2-4126-d9b3-7aea27c61f3e"
      },
      "outputs": [],
      "source": [
        "import matplotlib.pyplot as plt\n",
        "\n",
        "# Create subplots for count and frequency of survivors by gender\n",
        "fig, axes = plt.subplots(1, 2, figsize=(12, 6))\n",
        "\n",
        "# Bar chart for the count of survivors per gender\n",
        "df_survived_sex.plot(kind=\"bar\", x=\"Sex\", y=\"Survived_count\", legend=False, color=[\"green\"], ax=axes[0])\n",
        "axes[0].set_title(\"Number of Survivors by Gender\")\n",
        "axes[0].set_xlabel(\"Gender\")\n",
        "axes[0].set_ylabel(\"Count\")\n",
        "axes[0].set_xticklabels(df_survived_sex[\"Sex\"], rotation=0)\n",
        "\n",
        "# Add labels on top of bars (count)\n",
        "for index, value in enumerate(df_survived_sex[\"Survived_count\"]):\n",
        "    axes[0].text(index, value + 1, str(value), ha='center', fontsize=12)\n",
        "\n",
        "# Bar chart for the survival rate per gender\n",
        "df_survived_sex.plot(kind=\"bar\", x=\"Sex\", y=\"Survival_Rate (%)\", legend=False, color=[\"blue\"], ax=axes[1])\n",
        "axes[1].set_title(\"Percentage of Survivors by Gender\")\n",
        "axes[1].set_xlabel(\"Gender\")\n",
        "axes[1].set_ylabel(\"Percentage (%)\")\n",
        "axes[1].set_xticklabels(df_survived_sex[\"Sex\"], rotation=0)\n",
        "\n",
        "# Add labels on top of bars (percentage)\n",
        "for index, value in enumerate(df_survived_sex[\"Survival_Rate (%)\"]):\n",
        "    axes[1].text(index, value + 1, f\"{value:.1f}%\", ha='center', fontsize=12)\n",
        "\n",
        "# Adjust layout for better visibility\n",
        "plt.tight_layout()\n",
        "plt.show()\n"
      ]
    },
    {
      "cell_type": "code",
      "execution_count": null,
      "id": "274d4bd9-5496-4764-9ea8-cec28fbe0a86",
      "metadata": {
        "colab": {
          "base_uri": "https://localhost:8080/",
          "height": 125
        },
        "id": "274d4bd9-5496-4764-9ea8-cec28fbe0a86",
        "outputId": "dc4b4cbe-2bb1-43f1-a667-4687884afd87"
      },
      "outputs": [],
      "source": [
        "# FIRST METHOD WITH INDEX\n",
        "\n",
        "# Calculate survival count and total passengers by gender\n",
        "df_surv_sex_count = df[['Survived', 'Sex']].groupby(\"Sex\").sum()\n",
        "\n",
        "\n",
        "df_surv_sex_count[\"Total by Sex\"] = df[['Survived', 'Sex']].groupby(\"Sex\").count()\n",
        "\n",
        "# Reset index for better readability\n",
        "df_surv_sex_count = df_surv_sex_count.reset_index()\n",
        "df_surv_sex_count\n"
      ]
    },
    {
      "cell_type": "code",
      "execution_count": null,
      "id": "e384dbf5-cbfd-4c96-b21a-cc117621e04c",
      "metadata": {
        "colab": {
          "base_uri": "https://localhost:8080/",
          "height": 564
        },
        "id": "e384dbf5-cbfd-4c96-b21a-cc117621e04c",
        "outputId": "423a7a61-c4f6-482a-d5fe-d8a362c07547"
      },
      "outputs": [],
      "source": [
        "import matplotlib.pyplot as plt\n",
        "\n",
        "# Plot the bar chart\n",
        "fig, ax = plt.subplots(figsize=(8, 6))\n",
        "df_surv_sex_count.plot(kind=\"bar\", x=\"Sex\", ax=ax, color=[\"green\", \"gray\"])\n",
        "\n",
        "# Customize the chart\n",
        "plt.legend()\n",
        "plt.xticks(rotation=0)\n",
        "plt.ylabel(\"Count\")\n",
        "plt.title(\"Count of Survivors by Sex\")\n",
        "\n",
        "# Show the plot\n",
        "plt.show()\n"
      ]
    },
    {
      "cell_type": "code",
      "execution_count": null,
      "id": "2d869043-2a10-44e5-bb28-3eaf50699d13",
      "metadata": {
        "colab": {
          "base_uri": "https://localhost:8080/",
          "height": 143
        },
        "id": "2d869043-2a10-44e5-bb28-3eaf50699d13",
        "outputId": "7f760007-c6f6-41a7-b86b-ca3d2dcb446c"
      },
      "outputs": [],
      "source": [
        "# SECOND METHOD (WITHOUT INDEX OPTION)\n",
        "\n",
        "# Group by 'Sex' and calculate the total number of survivors\n",
        "df_surv_sex_count = df[['Survived','Sex']].groupby(\"Sex\").sum()\n",
        "\n",
        "# Group by 'Sex' and calculate the total number of passengers per gender\n",
        "df_surv_sex_count[\"Total by Sex\"] = df[['Survived','Sex']].groupby(\"Sex\").count()\n",
        "\n",
        "df_surv_sex_count\n"
      ]
    },
    {
      "cell_type": "code",
      "execution_count": null,
      "id": "32141e0a-842c-43b2-9ec0-bf514b8bc7c9",
      "metadata": {
        "colab": {
          "base_uri": "https://localhost:8080/",
          "height": 490
        },
        "id": "32141e0a-842c-43b2-9ec0-bf514b8bc7c9",
        "outputId": "74276875-1502-4593-9977-ce496dc77678"
      },
      "outputs": [],
      "source": [
        "# FIRST METHOD\n",
        "import matplotlib.pyplot as plt\n",
        "\n",
        "df_surv_sex_count.plot(kind=\"bar\")\n",
        "plt.legend()\n",
        "plt.xticks(rotation=0)\n",
        "plt.ylabel(\"count\")\n",
        "plt.title(\"Count survived \")\n"
      ]
    },
    {
      "cell_type": "markdown",
      "id": "202d0ec2-1bd4-4bce-a762-d0dcfb78acaa",
      "metadata": {
        "id": "202d0ec2-1bd4-4bce-a762-d0dcfb78acaa"
      },
      "source": [
        "Interpretation:  \n",
        "- Among female passengers, 195 out of 259 survived, resulting in a survival rate of 75.29%. This suggests that women had a significantly higher chance of survival, likely due to the \"women and children first\" evacuation protocol.  \n",
        "- Among male passengers, only 93 out of 453 survived, leading to a survival rate of 20.53%. This indicates that men had a much lower probability of survival compared to women.  \n",
        "- The disparity in survival rates between men and women shows that gender played a crucial role in survival chances. Women were prioritized during evacuation, while men were less likely to secure spots in lifeboats.  \n",
        "- The survival rate for women is more than three times higher than for men, reinforcing historical accounts that many male passengers sacrificed their chances to let women and children board lifeboats first.  \n",
        "- This data can also serve as a source for understanding cultural aspects and the importance given to women in society at that time, particularly in life-and-death situations where social norms dictated prioritizing their survival.  \n",
        "\n"
      ]
    },
    {
      "cell_type": "markdown",
      "id": "613002e3-0703-400a-ae42-00dd1ed1bfe7",
      "metadata": {
        "id": "613002e3-0703-400a-ae42-00dd1ed1bfe7"
      },
      "source": [
        "### 4.2.2.4. Survival Rate Based on Age Groups\n"
      ]
    },
    {
      "cell_type": "markdown",
      "id": "2c5292ae-8171-4620-8c6e-cbc688cfc528",
      "metadata": {
        "id": "2c5292ae-8171-4620-8c6e-cbc688cfc528"
      },
      "source": [
        "Goals of This Analysis:\n",
        "Understand how survival chances varied across different age groups.\n",
        "Compare the survival rate of children, adults, and elderly passengers.\n",
        "Identify potential patterns in survival linked to age.\n",
        "Determine if the \"Women and Children First\" evacuation rule was applied.\n"
      ]
    },
    {
      "cell_type": "markdown",
      "id": "508d4c70-2818-474a-ac10-628c89d26a76",
      "metadata": {
        "id": "508d4c70-2818-474a-ac10-628c89d26a76"
      },
      "source": [
        "First, let's look at the distribution of values for the age variable, so that we can study the survival parameter as a function of the different age groups."
      ]
    },
    {
      "cell_type": "code",
      "execution_count": null,
      "id": "e4f078c0-ed74-4295-b69c-4a4356a10793",
      "metadata": {
        "colab": {
          "base_uri": "https://localhost:8080/",
          "height": 496
        },
        "id": "e4f078c0-ed74-4295-b69c-4a4356a10793",
        "outputId": "187d2c6c-9f9d-459a-9fbe-76b45ff0b803"
      },
      "outputs": [],
      "source": [
        "import matplotlib.pyplot as plt\n",
        "import seaborn as sns\n",
        "import numpy as np\n",
        "\n",
        "# Calculate mean and standard deviation of Age\n",
        "mean_age = df[\"Age\"].mean()\n",
        "std_age = df[\"Age\"].std()\n",
        "\n",
        "# Histogram with KDE and standard deviation bands\n",
        "plt.figure(figsize=(12, 5))\n",
        "\n",
        "plt.subplot(1, 2, 1)\n",
        "sns.histplot(df, x=\"Age\", bins=20, kde=True, element=\"step\", multiple=\"stack\", fill=False, color=\"blue\")\n",
        "\n",
        "# Add vertical lines for mean and standard deviations\n",
        "plt.axvline(mean_age, color=\"red\", linestyle=\"--\", label=f\"Mean: {mean_age:.1f}\")\n",
        "plt.axvline(mean_age - std_age, color=\"orange\", linestyle=\"--\", label=f\"-1 Std Dev: {mean_age - std_age:.1f}\")\n",
        "plt.axvline(mean_age + std_age, color=\"orange\", linestyle=\"--\", label=f\"+1 Std Dev: {mean_age + std_age:.1f}\")\n",
        "\n",
        "# Formatting\n",
        "plt.title(\"Age Distribution with Standard Deviation\", fontsize=14)\n",
        "plt.xlabel(\"Age\")\n",
        "plt.ylabel(\"Count\")\n",
        "plt.xticks(rotation=45)\n",
        "plt.legend()\n",
        "\n",
        "plt.show()\n"
      ]
    },
    {
      "cell_type": "code",
      "execution_count": null,
      "id": "7e59fd50-e77a-405d-99cc-a1977969e8c6",
      "metadata": {
        "colab": {
          "base_uri": "https://localhost:8080/"
        },
        "id": "7e59fd50-e77a-405d-99cc-a1977969e8c6",
        "outputId": "3c2544c2-1031-4cba-fe76-ad2608cf02f4"
      },
      "outputs": [],
      "source": [
        "import pandas as pd\n",
        "\n",
        "# Creating 4 DataFrames based on the second option (Balanced Age Groups)\n",
        "\n",
        "# Define age groups\n",
        "children = df[df[\"Age\"] <= 12]                                # 0 - 12 years (Children)\n",
        "young_adults = df[(df[\"Age\"] > 12) & (df[\"Age\"] <= 25)]       # 13 - 25 years (Young Adults)\n",
        "middle_adults = df[(df[\"Age\"] > 25) & (df[\"Age\"] <= 40)]      # 26 - 40 years (Middle-aged Adults)\n",
        "older_adults = df[df[\"Age\"] > 40]                             # 41+ years (Older Adults & Seniors)\n",
        "\n",
        "# Display the results\n",
        "print(\"Children (0-12 years):\\n\", children.head())\n",
        "print()\n",
        "print(\"\\nYoung Adults (13-25 years):\\n\", young_adults.head())\n",
        "print()\n",
        "print(\"\\nMiddle-aged Adults (26-40 years):\\n\", middle_adults.head())\n",
        "print()\n",
        "print(\"\\nOlder Adults & Seniors (41+ years):\\n\", older_adults.head())\n"
      ]
    },
    {
      "cell_type": "code",
      "execution_count": null,
      "id": "5aebbe1e-5d17-466b-8c42-7dcf567379bb",
      "metadata": {
        "colab": {
          "base_uri": "https://localhost:8080/",
          "height": 175
        },
        "id": "5aebbe1e-5d17-466b-8c42-7dcf567379bb",
        "outputId": "c1e6edcc-d268-4d7d-860f-323763753c46"
      },
      "outputs": [],
      "source": [
        "import pandas as pd\n",
        "\n",
        "# Function to calculate survival statistics\n",
        "def survival_stats(df, age_group_name):\n",
        "    total_passengers = len(df)\n",
        "    survived_count = df[\"Survived\"].sum()\n",
        "    survival_rate = (survived_count / total_passengers) * 100 if total_passengers > 0 else 0\n",
        "\n",
        "    return {\n",
        "        \"Age Group\": age_group_name,\n",
        "        \"Total Passengers\": total_passengers,\n",
        "        \"Survived Count\": survived_count,\n",
        "        \"Survival Rate (%)\": round(survival_rate, 2)\n",
        "    }\n",
        "\n",
        "# Calculate statistics for each age group\n",
        "children_stats = survival_stats(children, \"Children \\n(0-12 years)\")\n",
        "young_adults_stats = survival_stats(young_adults, \"Young Adults\\n (13-25 years)\")\n",
        "middle_adults_stats = survival_stats(middle_adults, \"Middle-aged Adults\\n (26-40 years)\")\n",
        "older_adults_stats = survival_stats(older_adults, \"Older Adults & \\n Seniors (41+ years)\")\n",
        "\n",
        "# Create a DataFrame for comparison\n",
        "df_survival_by_age_group = pd.DataFrame([\n",
        "    children_stats,\n",
        "    young_adults_stats,\n",
        "    middle_adults_stats,\n",
        "    older_adults_stats\n",
        "])\n",
        "\n",
        "# Display the results\n",
        "# print(df_survival_by_age_group)\n",
        "df_survival_by_age_group\n"
      ]
    },
    {
      "cell_type": "code",
      "execution_count": null,
      "id": "Wvw2T9lbe9QY",
      "metadata": {
        "cellView": "form",
        "colab": {
          "base_uri": "https://localhost:8080/",
          "height": 558
        },
        "id": "Wvw2T9lbe9QY",
        "outputId": "8b837f19-9fd2-4329-8660-71d21cbf1b48"
      },
      "outputs": [],
      "source": [
        "# @title Age Group vs Survived Count\n",
        "\n",
        "from matplotlib import pyplot as plt\n",
        "import seaborn as sns\n",
        "figsize = (12, 1.2 * len(df_survival_by_age_group['Age Group'].unique()))\n",
        "plt.figure(figsize=figsize)\n",
        "sns.violinplot(df_survival_by_age_group, x='Survived Count', y='Age Group', inner='stick', palette='Dark2')\n",
        "sns.despine(top=True, right=True, bottom=True, left=True)"
      ]
    },
    {
      "cell_type": "code",
      "execution_count": null,
      "id": "017fd00f-ecb6-4d75-9600-cb7863493042",
      "metadata": {
        "colab": {
          "base_uri": "https://localhost:8080/",
          "height": 989
        },
        "id": "017fd00f-ecb6-4d75-9600-cb7863493042",
        "outputId": "64a76043-2f59-459f-ac3d-36215e7b8e87"
      },
      "outputs": [],
      "source": [
        "import pandas as pd\n",
        "import matplotlib.pyplot as plt\n",
        "\n",
        "\n",
        "# Bar Chart: Comparison of Survival Rate per Age Group\n",
        "plt.figure(figsize=(8, 5))\n",
        "plt.bar(df_survival_by_age_group[\"Age Group\"], df_survival_by_age_group[\"Survival Rate (%)\"], color=\"blue\")\n",
        "plt.xlabel(\"Age Group\")\n",
        "plt.ylabel(\"Survival Rate (%)\")\n",
        "plt.title(\"Survival Rate by Age Group\")\n",
        "plt.xticks(rotation=0)\n",
        "plt.show()\n",
        "\n",
        "# Stacked Bar Chart: Survivors vs. Non-survivors per Age Group\n",
        "fig, ax = plt.subplots(figsize=(8, 5))\n",
        "survived = df_survival_by_age_group[\"Survived Count\"]\n",
        "non_survived = df_survival_by_age_group[\"Total Passengers\"] - df_survival_by_age_group[\"Survived Count\"]\n",
        "categories = df_survival_by_age_group[\"Age Group\"]\n",
        "\n",
        "bar1 = ax.bar(categories, survived, color=\"green\", label=\"Survived\")\n",
        "bar2 = ax.bar(categories, non_survived, bottom=survived, color=\"red\", label=\"Non-Survived\")\n",
        "\n",
        "ax.set_title(\"Survivors vs. Non-Survivors by Age Group\")\n",
        "ax.set_xlabel(\"Age Group\")\n",
        "ax.set_ylabel(\"Count\")\n",
        "ax.legend()\n",
        "plt.xticks(rotation=0)\n",
        "plt.show()\n"
      ]
    },
    {
      "cell_type": "code",
      "execution_count": null,
      "id": "d56df975-c8e1-4c81-af2c-8de916c36bdb",
      "metadata": {
        "colab": {
          "base_uri": "https://localhost:8080/",
          "height": 444
        },
        "id": "d56df975-c8e1-4c81-af2c-8de916c36bdb",
        "outputId": "954ebbf8-19bd-415c-f520-27a510e3fb5f"
      },
      "outputs": [],
      "source": [
        "# Pie Chart: Survivor Proportion per Age Group\n",
        "plt.figure(figsize=(8, 5))\n",
        "plt.pie(df_survival_by_age_group[\"Survived Count\"], labels=df_survival_by_age_group[\"Age Group\"], autopct=\"%1.1f%%\", colors=[\"gold\", \"lightblue\", \"lightgreen\", \"pink\"])\n",
        "plt.title(\"Survivor Proportion by Age Group\")\n",
        "plt.show()\n"
      ]
    },
    {
      "cell_type": "markdown",
      "id": "60546358-8775-495a-acee-76766a7b3651",
      "metadata": {
        "id": "60546358-8775-495a-acee-76766a7b3651"
      },
      "source": [
        "Interpretation of Survival Rates by Age Group  \n",
        "\n",
        "1. Children (0-12 years) had the highest survival rate (57.97%).  \n",
        "   - This supports the \"Women and children first\" evacuation policy.  \n",
        "   - They were likely given priority access to lifeboats.  \n",
        "\n",
        "2. Young Adults (13-25 years) had the lowest survival rate (36.21%).  \n",
        "   - This age group includes many teenagers and young men, who may have been less prioritized in rescue efforts.  \n",
        "   - Young men in particular may have faced lower survival chances due to the \"Save women and children first\" rule.  \n",
        "\n",
        "3. Middle-aged Adults (26-40 years) had a survival rate of 41.98%, higher than young adults.  \n",
        "   - This group includes parents and working-class passengers who may have prioritized their families' safety.  \n",
        "   - Women in this group likely had higher survival rates than men.  \n",
        "\n",
        "4. Older Adults & Seniors (41+ years) had a survival rate of 36.24%, similar to young adults.  \n",
        "   - Older passengers may have had physical difficulties evacuating quickly.  \n",
        "   - They were likely given less priority compared to children and younger women.  \n",
        "\n",
        "Key Observations  \n",
        "- Children had the highest survival rate, confirming evacuation priorities.  \n",
        "- Young adults and seniors had the lowest survival rates, possibly due to gender biases and physical limitations.  \n",
        "- Middle-aged adults had slightly better survival chances, likely influenced by gender and social roles.  \n",
        "\n"
      ]
    },
    {
      "cell_type": "code",
      "execution_count": null,
      "id": "3d119f61-cbc7-4dec-b618-5ff9bc707da7",
      "metadata": {
        "colab": {
          "base_uri": "https://localhost:8080/"
        },
        "id": "3d119f61-cbc7-4dec-b618-5ff9bc707da7",
        "outputId": "e4ed38de-cc13-45d2-f9c1-b9d3d3c2487d"
      },
      "outputs": [],
      "source": [
        "import pandas as pd\n",
        "\n",
        "# Function to calculate survival statistics by gender within age groups\n",
        "def survival_by_gender(df, age_group_name):\n",
        "    gender_stats = df.groupby(\"Sex\")[\"Survived\"].agg([\"sum\", \"count\"])\n",
        "    gender_stats[\"Survival Rate (%)\"] = (gender_stats[\"sum\"] / gender_stats[\"count\"]) * 100\n",
        "    gender_stats.reset_index(inplace=True)\n",
        "    gender_stats[\"Age Group\"] = age_group_name\n",
        "    return gender_stats\n",
        "\n",
        "# Calculate survival rates for males and females in each age group\n",
        "children_gender_stats = survival_by_gender(children, \"Children \\n(0-12 years)\")\n",
        "young_adults_gender_stats = survival_by_gender(young_adults, \"Young Adults\\n (13-25 years)\")\n",
        "middle_adults_gender_stats = survival_by_gender(middle_adults, \"Middle-aged\\n Adults\\n (26-40 years)\")\n",
        "older_adults_gender_stats = survival_by_gender(older_adults, \"Older Adults\\n & Seniors\\n (41+ years)\")\n",
        "\n",
        "# Combine all results into a single DataFrame\n",
        "df_survival_by_age_gender = pd.concat([children_gender_stats, young_adults_gender_stats, middle_adults_gender_stats, older_adults_gender_stats])\n",
        "\n",
        "# Display the results\n",
        "print(df_survival_by_age_gender)\n"
      ]
    },
    {
      "cell_type": "code",
      "execution_count": null,
      "id": "e818337b-3707-4535-a55c-bb02229717b1",
      "metadata": {
        "colab": {
          "base_uri": "https://localhost:8080/",
          "height": 451
        },
        "id": "e818337b-3707-4535-a55c-bb02229717b1",
        "outputId": "6aa9ab4a-8b24-4ee3-9f95-70d68e50dde5"
      },
      "outputs": [],
      "source": [
        "import matplotlib.pyplot as plt\n",
        "import seaborn as sns\n",
        "\n",
        "# Set figure size for subplots\n",
        "fig, axes = plt.subplots(1, 2, figsize=(14,5))\n",
        "\n",
        "# 1. Bar Chart: Survival Rate by Gender in Each Age Group\n",
        "sns.barplot(data=df_survival_by_age_gender, x=\"Age Group\", y=\"Survival Rate (%)\", hue=\"Sex\", palette=[\"blue\", \"pink\"], ax=axes[0])\n",
        "axes[0].set_title(\"Survival Rate by Gender in Each Age Group\")\n",
        "axes[0].set_xlabel(\"Age Group\")\n",
        "axes[0].set_ylabel(\"Survival Rate (%)\")\n",
        "axes[0].legend(title=\"Sex\")\n",
        "\n",
        "# 2. Stacked Bar Chart: Survivors vs. Non-Survivors by Gender in Each Age Group\n",
        "df_survival_by_age_gender[\"Non-Survivors\"] = df_survival_by_age_gender[\"count\"] - df_survival_by_age_gender[\"sum\"]\n",
        "df_pivot = df_survival_by_age_gender.pivot(index=\"Age Group\", columns=\"Sex\", values=[\"sum\", \"Non-Survivors\"])\n",
        "\n",
        "df_pivot.plot(kind=\"bar\", stacked=True, color=[\"green\", \"red\", \"yellow\", \"blue\"], ax=axes[1])\n",
        "axes[1].set_title(\"Survivors vs. Non-Survivors by Gender in Each Age Group\")\n",
        "axes[1].set_xlabel(\"Age Group\")\n",
        "axes[1].set_ylabel(\"Count\")\n",
        "axes[1].legend([\"Survived - Male\", \"Non-Survived - Male\", \"Survived - Female\", \"Non-Survived - Female\"])\n",
        "\n",
        "# Adjust layout and show the plots\n",
        "plt.tight_layout()\n",
        "plt.show()\n"
      ]
    },
    {
      "cell_type": "code",
      "execution_count": null,
      "id": "5336e774-0782-4bbd-839d-10957745bbd2",
      "metadata": {
        "colab": {
          "base_uri": "https://localhost:8080/",
          "height": 347
        },
        "id": "5336e774-0782-4bbd-839d-10957745bbd2",
        "outputId": "568371ef-5947-43bb-8650-06f138c175b8"
      },
      "outputs": [],
      "source": [
        "import matplotlib.pyplot as plt\n",
        "\n",
        "# Unique age groups\n",
        "age_groups = df_survival_by_age_gender[\"Age Group\"].unique()\n",
        "\n",
        "# Create subplots: 1 row if there are 4 groups, otherwise 2 rows\n",
        "fig, axes = plt.subplots(1, len(age_groups), figsize=(20, 5)) if len(age_groups) <= 4 else plt.subplots(2, (len(age_groups) + 1) // 2, figsize=(15, 10))\n",
        "\n",
        "# Flatten axes in case of a 2-row layout\n",
        "axes = axes.flatten()\n",
        "\n",
        "# Generate pie charts for each age group\n",
        "for i, age_group in enumerate(age_groups):\n",
        "    subset = df_survival_by_age_gender[df_survival_by_age_gender[\"Age Group\"] == age_group]\n",
        "    axes[i].pie(subset[\"sum\"], labels=subset[\"Sex\"], autopct=\"%1.1f%%\", colors=[\"blue\", \"pink\"])\n",
        "    axes[i].set_title(f\"Survivor Proportion\\n{age_group}\")\n",
        "\n",
        "# Adjust layout and display the plots\n",
        "plt.tight_layout()\n",
        "plt.show()\n"
      ]
    },
    {
      "cell_type": "markdown",
      "id": "f814715e-5b41-4b2d-961d-74b92f7624e2",
      "metadata": {
        "id": "f814715e-5b41-4b2d-961d-74b92f7624e2"
      },
      "source": [
        "Interpretation of Survival Rates by Gender and Age Group  \n",
        "\n",
        "1. Children (0-12 years)  \n",
        "   - Females had a survival rate of 59.38%.  \n",
        "   - Males had a survival rate of 56.76%, which is very close to that of females.  \n",
        "   - This suggests that both boys and girls had similar chances of survival, likely because children were prioritized regardless of gender.  \n",
        "\n",
        "2. Young Adults (13-25 years)  \n",
        "   - Females had a survival rate of 75.56%, while males had only 11.27%.  \n",
        "   - This extreme difference indicates that young women were highly prioritized, whereas young men had very low chances of survival.  \n",
        "   - This aligns with the \"Women and children first\" rule, where young men were often left behind.  \n",
        "\n",
        "3. Middle-aged Adults (26-40 years)  \n",
        "   - Females had a survival rate of 80.00%, whereas males had only 22.09%.  \n",
        "   - Similar to young adults, women were much more likely to survive than men.  \n",
        "   - The survival rate for men improved slightly compared to younger males but remained significantly lower than that of women.  \n",
        "\n",
        "4. Older Adults & Seniors (41+ years)  \n",
        "   - Females had a survival rate of 76.60%, while males had only 17.65%.  \n",
        "   - Elderly women had a much higher survival rate than elderly men, reinforcing the idea that gender played a major role in survival chances.  \n",
        "   - Older men likely had difficulties evacuating and were not prioritized as much as younger men or women.  \n",
        "\n",
        "Key Observations  \n",
        "- Children (boys and girls) had similar survival rates, showing that gender was not a major factor in that group.  \n",
        "- Young adult males had the lowest survival rate (11.27%), likely because they were given the lowest priority.  \n",
        "- Females had the highest survival rates across all age groups, reinforcing the strong gender bias in survival priorities.  \n",
        "- Older men had a very low survival rate (17.65%), likely due to physical limitations and lower evacuation priority.  \n"
      ]
    },
    {
      "cell_type": "markdown",
      "id": "2995b14d-45db-4ea2-8d54-891ea693036b",
      "metadata": {
        "id": "2995b14d-45db-4ea2-8d54-891ea693036b"
      },
      "source": [
        "### 4.2.2.4. Analysis of Survival Rate by Fare Paid"
      ]
    },
    {
      "cell_type": "code",
      "execution_count": null,
      "id": "b2c5f272-4a24-4f19-a5a7-44cc99b3cbda",
      "metadata": {
        "colab": {
          "base_uri": "https://localhost:8080/"
        },
        "id": "b2c5f272-4a24-4f19-a5a7-44cc99b3cbda",
        "outputId": "06080abe-1b00-487f-dc12-2fdcabbe42a0"
      },
      "outputs": [],
      "source": [
        "import pandas as pd\n",
        "\n",
        "# Group by survived status and compute average fare statistics\n",
        "fare_survival_stats = df.groupby(\"Survived\")[\"Fare\"].agg([\"mean\", \"median\", \"min\", \"max\"])\n",
        "\n",
        "# Create fare bins to analyze fare impact on survival\n",
        "df[\"Fare Category\"] = pd.qcut(df[\"Fare\"], q=4, labels=[\"Low\", \"Medium\", \"High\", \"Very High\"])\n",
        "\n",
        "# Calculate survival rate per fare category\n",
        "fare_category_stats = df.groupby(\"Fare Category\")[\"Survived\"].agg([\"sum\", \"count\"])\n",
        "fare_category_stats[\"Survival Rate (%)\"] = (fare_category_stats[\"sum\"] / fare_category_stats[\"count\"]) * 100\n",
        "\n",
        "# Display the results\n",
        "print(fare_category_stats)\n"
      ]
    },
    {
      "cell_type": "code",
      "execution_count": null,
      "id": "e074663c-ba89-416f-844d-a18c83e64580",
      "metadata": {
        "colab": {
          "base_uri": "https://localhost:8080/",
          "height": 686
        },
        "id": "e074663c-ba89-416f-844d-a18c83e64580",
        "outputId": "18a35d5b-4517-4bf6-bce6-10f4ef684613"
      },
      "outputs": [],
      "source": [
        "import matplotlib.pyplot as plt\n",
        "import seaborn as sns\n",
        "\n",
        "# Create figure and subplots\n",
        "fig, axes = plt.subplots(1, 2, figsize=(14, 5))\n",
        "\n",
        "# 1 Bar Chart: Survival Rate by Fare Category\n",
        "sns.barplot(x=fare_category_stats.index, y=fare_category_stats[\"Survival Rate (%)\"], palette=\"Blues\", ax=axes[0])\n",
        "axes[0].set_xlabel(\"Fare Category\")\n",
        "axes[0].set_ylabel(\"Survival Rate (%)\")\n",
        "axes[0].set_title(\"Survival Rate by Fare Category\")\n",
        "\n",
        "# 2. Boxplot: Distribution of Fare by Survival Status\n",
        "sns.boxplot(x=df[\"Survived\"], y=df[\"Fare\"], palette=[\"red\", \"green\"], ax=axes[1])\n",
        "axes[1].set_xlabel(\"Survived (0 = No, 1 = Yes)\")\n",
        "axes[1].set_ylabel(\"Fare Paid\")\n",
        "axes[1].set_title(\"Distribution of Fare by Survival Status\")\n",
        "axes[1].set_xticklabels([\"Not Survived\", \"Survived\"])\n",
        "\n",
        "# Adjust layout and display plots\n",
        "plt.tight_layout()\n",
        "plt.show()\n"
      ]
    },
    {
      "cell_type": "markdown",
      "id": "0c44caaa-8c46-41c7-bbbc-3e58fc7d5e40",
      "metadata": {
        "id": "0c44caaa-8c46-41c7-bbbc-3e58fc7d5e40"
      },
      "source": [
        "Interpretation of Survival Rate by Fare Category  \n",
        "\n",
        "1. Low Fare (Cheapest Tickets)  \n",
        "   - This group had 191 passengers, but the survival rate was only 20.42%.  \n",
        "   - Passengers who paid the lowest fares had the lowest survival rate, possibly because they belonged to lower-class sections of the ship, which had fewer evacuation opportunities.  \n",
        "\n",
        "2. Medium Fare  \n",
        "   - This group had 165 passengers with a survival rate of 32.12%, slightly higher than the low-fare group.  \n",
        "   - While survival improved, it was still relatively low, suggesting that passengers in this range still faced challenges in accessing lifeboats.  \n",
        "\n",
        "3. High Fare  \n",
        "   - This category had 179 passengers with a survival rate of 48.60%.  \n",
        "   - The survival rate was significantly better than the lower fare categories, reinforcing the idea that higher-paying passengers had better access to safety.  \n",
        "\n",
        "4. Very High Fare (Most Expensive Tickets)  \n",
        "   - This group had 177 passengers with the highest survival rate of 61.58%.  \n",
        "   - Passengers who paid the highest fares had the greatest chance of survival, likely because they were in first-class accommodations, which had better access to lifeboats and were given priority during evacuation.  \n",
        "\n",
        "Key Observations  \n",
        "- Survival rate increases with ticket price, indicating a strong correlation between socio-economic status and survival.  \n",
        "- Passengers in the lowest fare category had the lowest survival rate (20.42%), suggesting that they faced the most difficulties in evacuation.  \n",
        "- First-class passengers (Very High Fare) had a much higher survival rate (61.58%), likely due to better cabin locations and higher priority for rescue.  \n",
        "- The gap between \"High\" and \"Very High\" fare groups is smaller than between \"Low\" and \"Medium\" groups, indicating that after a certain price threshold, survival chances were more stable.  \n"
      ]
    },
    {
      "cell_type": "markdown",
      "id": "cea5dee5-1f0c-4ae2-a5f4-f374610aad8f",
      "metadata": {
        "id": "cea5dee5-1f0c-4ae2-a5f4-f374610aad8f"
      },
      "source": [
        "### 4.2.2.5. Survival Rate by Family Size"
      ]
    },
    {
      "cell_type": "code",
      "execution_count": null,
      "id": "efa57e00-1166-4c2b-a662-f7608928dcf2",
      "metadata": {
        "colab": {
          "base_uri": "https://localhost:8080/"
        },
        "id": "efa57e00-1166-4c2b-a662-f7608928dcf2",
        "outputId": "1c88f478-efd5-46d7-a992-374ceee11072"
      },
      "outputs": [],
      "source": [
        "import pandas as pd\n",
        "\n",
        "# Create a new column for total family members onboard\n",
        "df[\"Family Size\"] = df[\"SibSp\"] + df[\"Parch\"] + 1  # +1 to include the passenger\n",
        "\n",
        "# Group by family size and compute survival statistics\n",
        "family_size_stats = df.groupby(\"Family Size\")[\"Survived\"].agg([\"sum\", \"count\"])\n",
        "family_size_stats[\"Survival Rate (%)\"] = (family_size_stats[\"sum\"] / family_size_stats[\"count\"]) * 100\n",
        "\n",
        "# Display the results\n",
        "print(family_size_stats)\n"
      ]
    },
    {
      "cell_type": "code",
      "execution_count": null,
      "id": "09dad3fc-6393-4884-a6d7-fd9edbc70b57",
      "metadata": {
        "colab": {
          "base_uri": "https://localhost:8080/",
          "height": 561
        },
        "id": "09dad3fc-6393-4884-a6d7-fd9edbc70b57",
        "outputId": "c96e6571-40ad-4790-bed7-5086091038f6"
      },
      "outputs": [],
      "source": [
        "import matplotlib.pyplot as plt\n",
        "import seaborn as sns\n",
        "\n",
        "# Create figure and subplots\n",
        "fig, axes = plt.subplots(1, 2, figsize=(14, 5))\n",
        "\n",
        "# 1. Bar Chart: Survival Rate by Family Size\n",
        "sns.barplot(x=family_size_stats.index, y=family_size_stats[\"Survival Rate (%)\"], palette=\"Blues\", ax=axes[0])\n",
        "axes[0].set_xlabel(\"Family Size\")\n",
        "axes[0].set_ylabel(\"Survival Rate (%)\")\n",
        "axes[0].set_title(\"Survival Rate by Family Size\")\n",
        "\n",
        "# 2. Scatter Plot: Relationship Between Family Size and Survival\n",
        "sns.scatterplot(x=df[\"Family Size\"], y=df[\"Survived\"], alpha=0.6, color=\"purple\", ax=axes[1])\n",
        "axes[1].set_xlabel(\"Family Size\")\n",
        "axes[1].set_ylabel(\"Survived (0 = No, 1 = Yes)\")\n",
        "axes[1].set_title(\"Survival Distribution by Family Size\")\n",
        "\n",
        "# Adjust layout and display plots\n",
        "plt.tight_layout()\n",
        "plt.show()\n"
      ]
    },
    {
      "cell_type": "markdown",
      "id": "925858ac-21da-450d-ac14-b18ef4e386f9",
      "metadata": {
        "id": "925858ac-21da-450d-ac14-b18ef4e386f9"
      },
      "source": [
        "Interpretation of Survival Rate by Family Size  \n",
        "\n",
        "1. Single Passengers (Family Size = 1)  \n",
        "   - This was the largest group with 402 passengers, but the survival rate was only 31.84%.  \n",
        "   - Solo travelers had one of the lowest survival rates, possibly because they had no close family support during evacuation.  \n",
        "\n",
        "2. Small Families (Family Size = 2-3)  \n",
        "   - Passengers with one or two family members (Family Size = 2 or 3) had higher survival rates of 54.68% and 56.99%, respectively.  \n",
        "   - This suggests that having a small family unit increased survival chances, likely because they could help each other find lifeboats.  \n",
        "\n",
        "3. Medium Families (Family Size = 4)  \n",
        "   - Survival rate was 77.78%, the highest among all groups.  \n",
        "   - These families likely stayed together and were prioritized for evacuation.  \n",
        "\n",
        "4. Large Families (Family Size = 5-6)  \n",
        "   - Survival rates drop sharply to 27.27% (Family Size = 5) and 13.64% (Family Size = 6).  \n",
        "   - Larger families may have had difficulty staying together during the chaos, reducing their survival chances.  \n",
        "\n",
        "5. Very Large Families (Family Size = 7-8)  \n",
        "   - Family Size = 7 had a slightly higher survival rate (33.33%) but was still low.  \n",
        "   - No one survived from families of size 8 (0.00%), indicating extreme difficulty evacuating together.  \n",
        "\n",
        "Key Observations  \n",
        "- Small to medium family sizes (2-4 members) had the best survival chances, likely due to better coordination.  \n",
        "- Solo travelers had a relatively low survival rate, possibly due to lack of assistance.  \n",
        "- Large families (5+) had a much lower survival rate, possibly due to challenges in staying together during evacuation.  \n",
        "- Extremely large families (8 members) had no survivors, suggesting that very large groups were at a major disadvantage.  \n"
      ]
    },
    {
      "cell_type": "markdown",
      "id": "ErLY3T0eAZ5R",
      "metadata": {
        "id": "ErLY3T0eAZ5R"
      },
      "source": [
        "## Upcoming Enhancements: Data Merging and Joining Techniques\n"
      ]
    },
    {
      "cell_type": "markdown",
      "id": "f1-a4MSMAisX",
      "metadata": {
        "id": "f1-a4MSMAisX"
      },
      "source": [
        "In the next phase of the project, we will incorporate advanced data manipulation techniques such as \"join\", \"merge\", and \"concat\" to further enhance the dataset and improve feature engineering. These operations will allow us to efficiently combine multiple datasets, handle missing information, and create enriched variables for predictive modeling.  \n",
        "\n",
        "Planned operations:  \n",
        "- \"merge()\": Used to combine datasets based on common keys (e.g., passenger ID). This is useful when integrating additional datasets, such as complementary passenger records or survival-related details.  \n",
        "- \"join()\": Will be used for merging dataframes based on their index values, particularly for aligning datasets with similar structures.  \n",
        "- \"concat()\": Helps in stacking datasets either vertically (row-wise) or horizontally (column-wise), useful for appending new features or aggregating different subsets of data.  \n",
        "\n",
        "These data merging operations will be crucial in preparing a more comprehensive dataset for our machine learning models, ensuring that all relevant information is available for analysis.  \n",
        "\n",
        "Stay tuned for the next update where we will integrate these techniques into the project."
      ]
    },
    {
      "cell_type": "markdown",
      "id": "bc61cead-065e-42e0-b6cb-5922fa123f2c",
      "metadata": {
        "id": "bc61cead-065e-42e0-b6cb-5922fa123f2c"
      },
      "source": [
        "# II. DATA SCIENCE & MACHINE LEARNING: TITANIC"
      ]
    },
    {
      "cell_type": "markdown",
      "id": "4c84a08d-c7c5-4194-9bd7-ae71c27253fd",
      "metadata": {
        "id": "4c84a08d-c7c5-4194-9bd7-ae71c27253fd"
      },
      "source": [
        "Next Steps: Data Science & Machine Learning  \n",
        "\n",
        "The first phase of the project, focusing on exploratory data analysis and statistical examination, has been successfully completed. We have analyzed the dataset structure, cleaned the data, and conducted univariate and bivariate analyses to understand the factors influencing passenger survival.  \n",
        "\n",
        "Currently, we are working on the second phase of the project: Data Science & Machine Learning, which will focus on building predictive models to determine passengers' survival probabilities based on the available features.  \n",
        "\n",
        "This phase will include:  \n",
        "- Advanced preprocessing and feature engineering to optimize dataset variables  \n",
        "- Selection and training of machine learning models for survival prediction  \n",
        "- Performance evaluation of models to identify the most effective solution  \n",
        "\n",
        "The results of the second phase will be included and shared in the next update."
      ]
    },
    {
      "cell_type": "code",
      "execution_count": null,
      "id": "eadb5eec-b0d6-47e9-bf3c-77167d574639",
      "metadata": {
        "id": "eadb5eec-b0d6-47e9-bf3c-77167d574639"
      },
      "outputs": [],
      "source": []
    }
  ],
  "metadata": {
    "colab": {
      "provenance": []
    },
    "kernelspec": {
      "display_name": "Python 3",
      "language": "python",
      "name": "python3"
    },
    "language_info": {
      "codemirror_mode": {
        "name": "ipython",
        "version": 3
      },
      "file_extension": ".py",
      "mimetype": "text/x-python",
      "name": "python",
      "nbconvert_exporter": "python",
      "pygments_lexer": "ipython3",
      "version": "3.10.11"
    }
  },
  "nbformat": 4,
  "nbformat_minor": 5
}
